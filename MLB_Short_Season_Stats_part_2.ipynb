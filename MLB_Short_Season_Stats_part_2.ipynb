{
 "cells": [
  {
   "cell_type": "markdown",
   "metadata": {},
   "source": [
    "In part_1, I made a pandas DataFrame with one row for each game played in the last 100 years for each player in the game (about 4.4M rows).  The columns are the batting line numbers for that player in that game, with a bunch of modern stats added by Sean Lahman, who curates the data, which was pulled from baseball-reference.com."
   ]
  },
  {
   "cell_type": "markdown",
   "metadata": {},
   "source": [
    "The goal is to look at the first 55-60 games for each season and see what sorts of stats get put up, for comparison with the COV19-shortened 2020 season stats, and to get a better grasp of the variance of some stats.  For instance, it's intuitive that summation stats like total home runs or total strikeouts should be higher in a 60-game season than $\\frac{60}{162}$ of the same stat for a 162-game season.  But by how much?"
   ]
  },
  {
   "cell_type": "markdown",
   "metadata": {},
   "source": [
    "Stats that are averaged by something like the number of plate appearances for the hitter should maybe have less variance, and be closer to a normal season's stats.  Maybe.  It could be hard to directly calculate the actual variance of all these per-player stats even for a normal season, because so many players have so few at-bats compared to other players.  But it does seem that, by looking at the first 55-60 games of each season and seeing how far off the stats are from a prorated portion of that full season's stats, we could get a good idea of how much variance there is in each stat.  And then when the 2020 \"regular\" season ends in a few weeks, we could get a better idea of how batter stats might have ended up with 100 more games, and how they stack up with the first part of each of the last 100 seasons."
   ]
  },
  {
   "cell_type": "markdown",
   "metadata": {},
   "source": [
    "It was interesting, to me, to think about which batches of games to compare to 2020.  My first thought was to look at every 60-game stretch in history, within single seasons.  So for a 162-game season, there would be 103 such spans, for each player. There would be huge overlaps between the spans, and the very best and worst streaks would surface, and would have little value serving as yardsticks for a fixed window like 2020's schedule.  The first 60 games seem like a better comparison, but you could also make a case for the last 60 games of each season instead.  The teams in contention for the playoffs are playing as they would at the end of a normal season, and the calendar days are the same as the ends of normal seasons (i.e. August and September weather, light, etc.).  Maybe the best comparison is against 200 samples:  100 season beginnings and 100 season endings. But I'll just look at the first 60 games for now...."
   ]
  },
  {
   "cell_type": "markdown",
   "metadata": {},
   "source": [
    "Finally, there's the question of whether 60 games is the right sample size at all.  In 2020, there are some teams who had to miss 1-2 weeks of games due to league COV19 protocol.  As I start writing this, the Twins have played 45 games and the Marlins 35.  A couple of weeks later I come back to finish it, and the Marlins have caught up by playing a relentless stretch of doubleheaders, which are 6$\\frac{1}{2}$ or 7 innings each this year instead of the usual 8$\\frac{1}{2}$ or 9.  And extra innings are fewer this year due to temporary rule changes.  My hunch is that the first and/or last 55 games of a normal season would be a better comparison to this year, for individual player stats."
   ]
  },
  {
   "cell_type": "code",
   "execution_count": 1,
   "metadata": {},
   "outputs": [],
   "source": [
    "import pandas as pd\n",
    "import numpy as np\n",
    "import scipy.stats as stats"
   ]
  },
  {
   "cell_type": "code",
   "execution_count": 2,
   "metadata": {},
   "outputs": [],
   "source": [
    "import matplotlib.pyplot as plt\n",
    "%matplotlib inline"
   ]
  },
  {
   "cell_type": "code",
   "execution_count": 3,
   "metadata": {},
   "outputs": [],
   "source": [
    "pd.set_option('display.max_columns', None)"
   ]
  },
  {
   "cell_type": "code",
   "execution_count": 4,
   "metadata": {},
   "outputs": [
    {
     "data": {
      "text/plain": [
       "(4421857, 41)"
      ]
     },
     "execution_count": 4,
     "metadata": {},
     "output_type": "execute_result"
    }
   ],
   "source": [
    "df = pd.read_csv('century_batting')\n",
    "df.shape"
   ]
  },
  {
   "cell_type": "code",
   "execution_count": 5,
   "metadata": {},
   "outputs": [
    {
     "data": {
      "text/plain": [
       "1901"
      ]
     },
     "execution_count": 5,
     "metadata": {},
     "output_type": "execute_result"
    }
   ],
   "source": [
    "min(df.season)"
   ]
  },
  {
   "cell_type": "code",
   "execution_count": 6,
   "metadata": {},
   "outputs": [
    {
     "data": {
      "text/plain": [
       "(4280224, 41)"
      ]
     },
     "execution_count": 6,
     "metadata": {},
     "output_type": "execute_result"
    }
   ],
   "source": [
    "# got 1900-1919 in there still, so remove those years\n",
    "df = df[df.season >= 1920]\n",
    "df.shape"
   ]
  },
  {
   "cell_type": "markdown",
   "metadata": {},
   "source": [
    "Since the current focus is on individual stats, not team stats, I'll start by removing the batting lines for all pitchers, who would drag averages lower by mostly not being good hitters, and would even be outliers in summary stats, since they bat only a couple of times every 5 days.  Furthermore, when it comes to comparisons with 2020, pitchers aren't batting this year, even in the NL.  "
   ]
  },
  {
   "cell_type": "code",
   "execution_count": 7,
   "metadata": {},
   "outputs": [
    {
     "data": {
      "text/plain": [
       "Index(['player', 'season', 'game', 'Gtm', '2B', '3B', 'AB', 'BA', 'BB', 'BOP',\n",
       "       'CS', 'DFS(DK)', 'DFS(FD)', 'Date', 'GDP', 'Gcar', 'H', 'HBP', 'HR',\n",
       "       'IBB', 'Inngs', 'OBP', 'OPS', 'Opp', 'PA', 'Pos', 'R', 'RBI', 'RE24',\n",
       "       'ROE', 'Rslt', 'SB', 'SF', 'SH', 'SLG', 'SO', 'Tm', 'WPA', 'aLI', 'LOC',\n",
       "       'name'],\n",
       "      dtype='object')"
      ]
     },
     "execution_count": 7,
     "metadata": {},
     "output_type": "execute_result"
    }
   ],
   "source": [
    "df.columns"
   ]
  },
  {
   "cell_type": "code",
   "execution_count": 8,
   "metadata": {},
   "outputs": [
    {
     "data": {
      "text/plain": [
       "(3604281, 41)"
      ]
     },
     "execution_count": 8,
     "metadata": {},
     "output_type": "execute_result"
    }
   ],
   "source": [
    "df = df[df.Pos != 'P']\n",
    "df.shape"
   ]
  },
  {
   "cell_type": "markdown",
   "metadata": {},
   "source": [
    "The 2 George Burnses of the 1920's, 2 Hal Smiths in the 1950's, 2 Ken Griffeys who overlapped in 1989-1991, the 2 Brian Hunters from 1994-1999, the 2 Luis Gonzalezes and the 2 Alex Gonzalezes playing simultaneously around 2000, all mess up the cumulative stats for those eras, if you use their name/season combos as indexes, but I didn't catch that when originally building the dataset, so need to change it now."
   ]
  },
  {
   "cell_type": "code",
   "execution_count": 171,
   "metadata": {},
   "outputs": [
    {
     "data": {
      "text/plain": [
       "array(['gonzaal01', 'gonzaal02'], dtype=object)"
      ]
     },
     "execution_count": 171,
     "metadata": {},
     "output_type": "execute_result"
    }
   ],
   "source": [
    "df[df.name == 'Alex Gonzalez'].player.unique()"
   ]
  },
  {
   "cell_type": "code",
   "execution_count": 236,
   "metadata": {},
   "outputs": [
    {
     "data": {
      "text/plain": [
       "array(['gonzalu01', 'gonzalu02'], dtype=object)"
      ]
     },
     "execution_count": 236,
     "metadata": {},
     "output_type": "execute_result"
    }
   ],
   "source": [
    "df[df.name == 'Luis Gonzalez'].player.unique()"
   ]
  },
  {
   "cell_type": "code",
   "execution_count": 237,
   "metadata": {},
   "outputs": [
    {
     "data": {
      "text/plain": [
       "array(['griffke01', 'griffke02'], dtype=object)"
      ]
     },
     "execution_count": 237,
     "metadata": {},
     "output_type": "execute_result"
    }
   ],
   "source": [
    "df[df.name == 'Ken Griffey'].player.unique()"
   ]
  },
  {
   "cell_type": "code",
   "execution_count": 238,
   "metadata": {},
   "outputs": [
    {
     "data": {
      "text/plain": [
       "array(['huntebr01', 'huntebr02'], dtype=object)"
      ]
     },
     "execution_count": 238,
     "metadata": {},
     "output_type": "execute_result"
    }
   ],
   "source": [
    "df[df.name == 'Brian Hunter'].player.unique()"
   ]
  },
  {
   "cell_type": "code",
   "execution_count": 282,
   "metadata": {},
   "outputs": [],
   "source": [
    "df[df.name == 'George Burns'].player.unique()"
   ]
  },
  {
   "cell_type": "code",
   "execution_count": 278,
   "metadata": {},
   "outputs": [
    {
     "data": {
      "text/plain": [
       "array(['smithha08', 'smithha09'], dtype=object)"
      ]
     },
     "execution_count": 278,
     "metadata": {},
     "output_type": "execute_result"
    }
   ],
   "source": [
    "df[df.name == 'Hal Smith'].player.unique()"
   ]
  },
  {
   "cell_type": "code",
   "execution_count": 254,
   "metadata": {},
   "outputs": [],
   "source": [
    "names = df.name.values\n",
    "for i, player in enumerate(df.player.values):\n",
    "    if player in ['burnsge02', 'gonzaal02', 'griffke02', 'huntebr02', 'gonzalu02', 'smithha09']:\n",
    "        names[i] += ' (2)'\n",
    "\n",
    "df['name'] = names"
   ]
  },
  {
   "cell_type": "code",
   "execution_count": 283,
   "metadata": {},
   "outputs": [],
   "source": [
    "df.to_csv('century_batting')"
   ]
  },
  {
   "cell_type": "markdown",
   "metadata": {},
   "source": [
    "#### To begin, how about a quick peek at some of the statistics and how to filter and calculate them...."
   ]
  },
  {
   "cell_type": "markdown",
   "metadata": {},
   "source": [
    "How many team-games are these, for a century?"
   ]
  },
  {
   "cell_type": "code",
   "execution_count": 140,
   "metadata": {},
   "outputs": [
    {
     "data": {
      "text/plain": [
       "351334"
      ]
     },
     "execution_count": 140,
     "metadata": {},
     "output_type": "execute_result"
    }
   ],
   "source": [
    "# half of this number is the number of actual games\n",
    "df.groupby(['season', 'game', 'Tm']).ngroups   "
   ]
  },
  {
   "cell_type": "markdown",
   "metadata": {},
   "source": [
    "How many at-bats do positional players get each game?"
   ]
  },
  {
   "cell_type": "code",
   "execution_count": 420,
   "metadata": {},
   "outputs": [
    {
     "data": {
      "image/png": "[encoded data removed]",
      "text/plain": [
       "<Figure size 432x288 with 1 Axes>"
      ]
     },
     "metadata": {
      "needs_background": "light"
     },
     "output_type": "display_data"
    }
   ],
   "source": [
    "plt.hist(df.AB, bins=12)\n",
    "plt.xlabel('At Bats in the Game')\n",
    "plt.ylabel('Number of Games');"
   ]
  },
  {
   "cell_type": "markdown",
   "metadata": {},
   "source": [
    "Most fans would probably have guessed correctly that 4 AB was most common.  The fact that there are more cases of 1 AB than of 2 AB probably reflects the fact that pinch hitters are usually used late in the game."
   ]
  },
  {
   "cell_type": "markdown",
   "metadata": {},
   "source": [
    "What's the game count by position?"
   ]
  },
  {
   "cell_type": "code",
   "execution_count": 142,
   "metadata": {},
   "outputs": [
    {
     "data": {
      "image/png": "[encoded data removed]",
      "text/plain": [
       "<Figure size 432x288 with 1 Axes>"
      ]
     },
     "metadata": {
      "needs_background": "light"
     },
     "output_type": "display_data"
    }
   ],
   "source": [
    "top_pos = df.Pos.value_counts()[:10]\n",
    "plt.bar(range(len(top_pos)), height=top_pos.values, tick_label=top_pos.keys())\n",
    "plt.title('Games by Position');"
   ]
  },
  {
   "cell_type": "markdown",
   "metadata": {},
   "source": [
    "Catchers have the most games in that chart, so they get replaced more often than other positions do during games.  Either they get banged up more or they get pinch hit for more, perhaps?"
   ]
  },
  {
   "cell_type": "markdown",
   "metadata": {},
   "source": [
    "If catchers are getting pinch hit for more often, does that mean their batting avg is worst?"
   ]
  },
  {
   "cell_type": "code",
   "execution_count": 372,
   "metadata": {},
   "outputs": [
    {
     "data": {
      "text/plain": [
       "Index(['C', 'SS', 'LF', '1B', '3B', '2B', 'RF', 'CF', 'PH', 'DH'], dtype='object')"
      ]
     },
     "execution_count": 372,
     "metadata": {},
     "output_type": "execute_result"
    }
   ],
   "source": [
    "positions = df.Pos.value_counts()[:10]\n",
    "positions.keys()"
   ]
  },
  {
   "cell_type": "code",
   "execution_count": 402,
   "metadata": {},
   "outputs": [
    {
     "data": {
      "image/png": "[encoded data removed]",
      "text/plain": [
       "<Figure size 432x288 with 1 Axes>"
      ]
     },
     "metadata": {
      "needs_background": "light"
     },
     "output_type": "display_data"
    }
   ],
   "source": [
    "pos_groups = df.groupby('Pos')\n",
    "# calculate the batting avg by hits/at-bats\n",
    "ba = pos_groups.H.sum() / pos_groups.AB.sum()\n",
    "plt.bar(*list(zip(*sorted([(p, ba[p]) for p in positions.keys()], key=lambda x: x[1]))))\n",
    "plt.xlabel('Position')\n",
    "plt.ylabel('Batting Average')\n",
    "plt.ylim(0, .31)\n",
    "for pos, stat in [(p, ba[p]) for p in positions.keys()]:\n",
    "    plt.text(pos, stat + 0.01, ('%.3f' % stat).lstrip('0'), color='k', fontsize=10, horizontalalignment='center')\n",
    "plt.title('Batting Avg. by Position for the last Century');"
   ]
  },
  {
   "cell_type": "markdown",
   "metadata": {},
   "source": [
    "So yes, catchers have the worst batting average out of the 8 field players, but it's maybe surprising how much worse pinch hitters are, considering their role."
   ]
  },
  {
   "cell_type": "markdown",
   "metadata": {},
   "source": [
    "Probably the homerun situation isn't the same---"
   ]
  },
  {
   "cell_type": "code",
   "execution_count": 144,
   "metadata": {},
   "outputs": [
    {
     "data": {
      "image/png": "[encoded data removed]",
      "text/plain": [
       "<Figure size 432x288 with 1 Axes>"
      ]
     },
     "metadata": {
      "needs_background": "light"
     },
     "output_type": "display_data"
    }
   ],
   "source": [
    "hr = pos_groups.HR.sum() / pos_groups.AB.sum()\n",
    "plt.bar(*list(zip(*sorted([(p, hr[p]) for p in positions.keys()], key=lambda x: x[1]))))\n",
    "plt.xlabel('Position')\n",
    "plt.ylabel('Home Runs')\n",
    "plt.title('Home Runs per At Bat by Position for the last Century');"
   ]
  },
  {
   "cell_type": "markdown",
   "metadata": {},
   "source": [
    "Central positions like shortstops, second basemen, catchers, and center fielders are valuable less for their hitting than for their defense, compared to the other 4 field positions."
   ]
  },
  {
   "cell_type": "markdown",
   "metadata": {},
   "source": [
    "How have on-base % and slugging % evolved over the decades?"
   ]
  },
  {
   "cell_type": "code",
   "execution_count": 145,
   "metadata": {},
   "outputs": [],
   "source": [
    "'''\n",
    "OBP = (H + BB + HBP) / (AB + BB + HBP + SF) ==> on-base %, as stated on bb-ref site.  \n",
    "total_bases = H + 2B + 2*3B + 3*HR  ==> since there's no \"1B\" column here\n",
    "SLG = total_bases/ AB\n",
    "OPS = OBP + SLG\n",
    "'''\n",
    "\n",
    "df['decade'] = pd.cut(df.season, range(1920, 2021, 10), include_lowest=True, right=False,\n",
    "      labels=['20s','30s','40s','50s','60s','70s','80s','90s','00s','10s'])"
   ]
  },
  {
   "cell_type": "code",
   "execution_count": 91,
   "metadata": {},
   "outputs": [],
   "source": [
    "def get_obp_slg(frame, grouping):\n",
    "    '''Group the frame as specified and\n",
    "    calculate the OBP and SLG for each group.\n",
    "    '''\n",
    "    groups = frame.groupby(grouping)\n",
    "    obp = (groups.H.sum() + groups.BB.sum() + groups.HBP.sum()) / \\\n",
    "          (groups.AB.sum() + groups.BB.sum() + groups.HBP.sum() + groups.SF.sum())\n",
    "    slg = (groups.H.sum() + groups['2B'].sum() + 2*groups['3B'].sum()\n",
    "          + 3*groups['HR'].sum()) / groups.AB.sum()\n",
    "    return obp, slg"
   ]
  },
  {
   "cell_type": "code",
   "execution_count": 196,
   "metadata": {},
   "outputs": [],
   "source": [
    "def get_ba_obp_slg(frame, grouping):\n",
    "    '''Group the frame as specified and\n",
    "    calculate the BA, OBP, and SLG for each group.\n",
    "    Same function as above, but with batting average as well.\n",
    "    '''\n",
    "    groups = frame.groupby(grouping)\n",
    "    ba = groups.H.sum() / groups.AB.sum()\n",
    "    obp = (groups.H.sum() + groups.BB.sum() + groups.HBP.sum()) / \\\n",
    "          (groups.AB.sum() + groups.BB.sum() + groups.HBP.sum() + groups.SF.sum())\n",
    "    slg = (groups.H.sum() + groups['2B'].sum() + 2*groups['3B'].sum()\n",
    "          + 3*groups['HR'].sum()) / groups.AB.sum()\n",
    "    return ba, obp, slg"
   ]
  },
  {
   "cell_type": "code",
   "execution_count": 153,
   "metadata": {},
   "outputs": [],
   "source": [
    "obp, slg = get_obp_slg(df, 'decade')"
   ]
  },
  {
   "cell_type": "code",
   "execution_count": 154,
   "metadata": {},
   "outputs": [],
   "source": [
    "ops = obp + slg"
   ]
  },
  {
   "cell_type": "code",
   "execution_count": 155,
   "metadata": {},
   "outputs": [
    {
     "data": {
      "image/png": "[encoded data removed]",
      "text/plain": [
       "<Figure size 432x288 with 1 Axes>"
      ]
     },
     "metadata": {
      "needs_background": "light"
     },
     "output_type": "display_data"
    }
   ],
   "source": [
    "ops.plot(label='total OPS')\n",
    "slg.plot(label='slugging %')\n",
    "obp.plot(label='on-base %')\n",
    "plt.legend()\n",
    "plt.title('Batting stats by decade');"
   ]
  },
  {
   "cell_type": "markdown",
   "metadata": {},
   "source": [
    "Those stats are more even over time than I expected.  The 1950's saw an uptick in slugging, as did the 1990's and 2000's.  From this bird's eye view, when you pool every hitter together for a decade, the OPS stat favored these days looks redundant with its slugging component."
   ]
  },
  {
   "cell_type": "markdown",
   "metadata": {},
   "source": [
    "How much more variance will there be if we look at each year instead of each decade?"
   ]
  },
  {
   "cell_type": "code",
   "execution_count": 93,
   "metadata": {},
   "outputs": [],
   "source": [
    "obp, slg = get_obp_slg(df, 'season')\n",
    "ops = obp + slg"
   ]
  },
  {
   "cell_type": "code",
   "execution_count": 439,
   "metadata": {},
   "outputs": [
    {
     "data": {
      "text/html": [
       "<div>\n",
       "<style scoped>\n",
       "    .dataframe tbody tr th:only-of-type {\n",
       "        vertical-align: middle;\n",
       "    }\n",
       "\n",
       "    .dataframe tbody tr th {\n",
       "        vertical-align: top;\n",
       "    }\n",
       "\n",
       "    .dataframe thead th {\n",
       "        text-align: right;\n",
       "    }\n",
       "</style>\n",
       "<table border=\"1\" class=\"dataframe\">\n",
       "  <thead>\n",
       "    <tr style=\"text-align: right;\">\n",
       "      <th></th>\n",
       "      <th>ba</th>\n",
       "      <th>obp</th>\n",
       "      <th>slg</th>\n",
       "      <th>ops</th>\n",
       "      <th>ba60</th>\n",
       "      <th>obp60</th>\n",
       "      <th>slg60</th>\n",
       "      <th>ops60</th>\n",
       "    </tr>\n",
       "    <tr>\n",
       "      <th>season</th>\n",
       "      <th></th>\n",
       "      <th></th>\n",
       "      <th></th>\n",
       "      <th></th>\n",
       "      <th></th>\n",
       "      <th></th>\n",
       "      <th></th>\n",
       "      <th></th>\n",
       "    </tr>\n",
       "  </thead>\n",
       "  <tbody>\n",
       "    <tr>\n",
       "      <td>1920</td>\n",
       "      <td>0.283592</td>\n",
       "      <td>0.343101</td>\n",
       "      <td>0.383374</td>\n",
       "      <td>0.726475</td>\n",
       "      <td>0.279851</td>\n",
       "      <td>0.344723</td>\n",
       "      <td>0.377911</td>\n",
       "      <td>0.722635</td>\n",
       "    </tr>\n",
       "    <tr>\n",
       "      <td>1921</td>\n",
       "      <td>0.298700</td>\n",
       "      <td>0.357128</td>\n",
       "      <td>0.415396</td>\n",
       "      <td>0.772524</td>\n",
       "      <td>0.300678</td>\n",
       "      <td>0.360022</td>\n",
       "      <td>0.425101</td>\n",
       "      <td>0.785122</td>\n",
       "    </tr>\n",
       "    <tr>\n",
       "      <td>1922</td>\n",
       "      <td>0.297007</td>\n",
       "      <td>0.358802</td>\n",
       "      <td>0.415190</td>\n",
       "      <td>0.773993</td>\n",
       "      <td>0.292649</td>\n",
       "      <td>0.358506</td>\n",
       "      <td>0.413640</td>\n",
       "      <td>0.772146</td>\n",
       "    </tr>\n",
       "    <tr>\n",
       "      <td>1923</td>\n",
       "      <td>0.291604</td>\n",
       "      <td>0.356404</td>\n",
       "      <td>0.404361</td>\n",
       "      <td>0.760766</td>\n",
       "      <td>0.288008</td>\n",
       "      <td>0.356118</td>\n",
       "      <td>0.404086</td>\n",
       "      <td>0.760204</td>\n",
       "    </tr>\n",
       "    <tr>\n",
       "      <td>1924</td>\n",
       "      <td>0.293529</td>\n",
       "      <td>0.356345</td>\n",
       "      <td>0.405785</td>\n",
       "      <td>0.762130</td>\n",
       "      <td>0.289011</td>\n",
       "      <td>0.353715</td>\n",
       "      <td>0.400434</td>\n",
       "      <td>0.754149</td>\n",
       "    </tr>\n",
       "  </tbody>\n",
       "</table>\n",
       "</div>"
      ],
      "text/plain": [
       "              ba       obp       slg       ops      ba60     obp60     slg60  \\\n",
       "season                                                                         \n",
       "1920    0.283592  0.343101  0.383374  0.726475  0.279851  0.344723  0.377911   \n",
       "1921    0.298700  0.357128  0.415396  0.772524  0.300678  0.360022  0.425101   \n",
       "1922    0.297007  0.358802  0.415190  0.773993  0.292649  0.358506  0.413640   \n",
       "1923    0.291604  0.356404  0.404361  0.760766  0.288008  0.356118  0.404086   \n",
       "1924    0.293529  0.356345  0.405785  0.762130  0.289011  0.353715  0.400434   \n",
       "\n",
       "           ops60  \n",
       "season            \n",
       "1920    0.722635  \n",
       "1921    0.785122  \n",
       "1922    0.772146  \n",
       "1923    0.760204  \n",
       "1924    0.754149  "
      ]
     },
     "execution_count": 439,
     "metadata": {},
     "output_type": "execute_result"
    }
   ],
   "source": [
    "ba = df.groupby('season').H.sum() / df.groupby('season').AB.sum()\n",
    "league_seasons = pd.DataFrame({'ba':ba, 'obp':obp, 'slg':slg, 'ops':ops, \n",
    "                               'ba60':ba60, 'obp60':obp60, 'slg60':slg60, 'ops60':ops60})\n",
    "league_seasons.head()"
   ]
  },
  {
   "cell_type": "code",
   "execution_count": 440,
   "metadata": {},
   "outputs": [],
   "source": [
    "league_seasons.to_csv('MLB_chartstats/leaguewide_avgs')"
   ]
  },
  {
   "cell_type": "code",
   "execution_count": 157,
   "metadata": {},
   "outputs": [
    {
     "data": {
      "image/png": "[encoded data removed]",
      "text/plain": [
       "<Figure size 576x288 with 1 Axes>"
      ]
     },
     "metadata": {
      "needs_background": "light"
     },
     "output_type": "display_data"
    }
   ],
   "source": [
    "plt.figure(figsize=(8, 4))\n",
    "ops.plot(label='total OPS')\n",
    "slg.plot(label='slugging %')\n",
    "obp.plot(label='on-base %')\n",
    "plt.legend()\n",
    "plt.title('Batting stats by season');"
   ]
  },
  {
   "cell_type": "markdown",
   "metadata": {},
   "source": [
    "Compare the first 60 games of every season to the full season, for league-wide OPS:"
   ]
  },
  {
   "cell_type": "code",
   "execution_count": 298,
   "metadata": {},
   "outputs": [
    {
     "data": {
      "image/png": "[encoded data removed]",
      "text/plain": [
       "<Figure size 576x288 with 1 Axes>"
      ]
     },
     "metadata": {
      "needs_background": "light"
     },
     "output_type": "display_data"
    }
   ],
   "source": [
    "ba60, obp60, slg60 = get_ba_obp_slg(df[df.game < 61], 'season')\n",
    "ops60 = obp60 + slg60\n",
    "plt.figure(figsize=(8, 4))\n",
    "ops.plot(label='total OPS')\n",
    "ops60.plot(label='first 60 games OPS')\n",
    "plt.legend()\n",
    "plt.title('OPS by season, first 60 games compared to full season');"
   ]
  },
  {
   "cell_type": "code",
   "execution_count": 168,
   "metadata": {},
   "outputs": [
    {
     "data": {
      "text/plain": [
       "0.031070355855497157"
      ]
     },
     "execution_count": 168,
     "metadata": {},
     "output_type": "execute_result"
    }
   ],
   "source": [
    "# std dev of 100 seasons league-wide OPS, first 60 games only\n",
    "ops60.std()"
   ]
  },
  {
   "cell_type": "code",
   "execution_count": 169,
   "metadata": {},
   "outputs": [
    {
     "data": {
      "text/plain": [
       "0.028848198559932967"
      ]
     },
     "execution_count": 169,
     "metadata": {},
     "output_type": "execute_result"
    }
   ],
   "source": [
    "# same stat, but for full seasons\n",
    "ops.std()"
   ]
  },
  {
   "cell_type": "code",
   "execution_count": 10,
   "metadata": {},
   "outputs": [
    {
     "data": {
      "text/plain": [
       "Index(['player', 'season', 'game', 'Gtm', '2B', '3B', 'AB', 'BA', 'BB', 'BOP',\n",
       "       'CS', 'DFS(DK)', 'DFS(FD)', 'Date', 'GDP', 'Gcar', 'H', 'HBP', 'HR',\n",
       "       'IBB', 'Inngs', 'OBP', 'OPS', 'Opp', 'PA', 'Pos', 'R', 'RBI', 'RE24',\n",
       "       'ROE', 'Rslt', 'SB', 'SF', 'SH', 'SLG', 'SO', 'Tm', 'WPA', 'aLI', 'LOC',\n",
       "       'name'],\n",
       "      dtype='object')"
      ]
     },
     "execution_count": 10,
     "metadata": {},
     "output_type": "execute_result"
    }
   ],
   "source": [
    "df.columns\n"
   ]
  },
  {
   "cell_type": "markdown",
   "metadata": {},
   "source": [
    "Let's see how common batting leader stats for the first 60 games look"
   ]
  },
  {
   "cell_type": "code",
   "execution_count": 284,
   "metadata": {},
   "outputs": [
    {
     "data": {
      "text/plain": [
       "(1356709, 41)"
      ]
     },
     "execution_count": 284,
     "metadata": {},
     "output_type": "execute_result"
    }
   ],
   "source": [
    "first60 = df[df.game < 61]\n",
    "first60.shape"
   ]
  },
  {
   "cell_type": "code",
   "execution_count": 441,
   "metadata": {},
   "outputs": [],
   "source": [
    "grouped = first60.groupby(['season', 'name'])\n",
    "# do full seasons for comparisons:\n",
    "full_grouped = df.groupby(['season', 'name'])"
   ]
  },
  {
   "cell_type": "code",
   "execution_count": 461,
   "metadata": {},
   "outputs": [
    {
     "name": "stderr",
     "output_type": "stream",
     "text": [
      "/Users/ethanhaley/opt/anaconda3/lib/python3.7/site-packages/ipykernel_launcher.py:5: FutureWarning: The signature of `Series.to_csv` was aligned to that of `DataFrame.to_csv`, and argument 'header' will change its default value from False to True: please pass an explicit value to suppress this warning.\n",
      "  \"\"\"\n",
      "/Users/ethanhaley/opt/anaconda3/lib/python3.7/site-packages/ipykernel_launcher.py:6: FutureWarning: The signature of `Series.to_csv` was aligned to that of `DataFrame.to_csv`, and argument 'header' will change its default value from False to True: please pass an explicit value to suppress this warning.\n",
      "  \n"
     ]
    }
   ],
   "source": [
    "batcats = ['2B', '3B', 'BA', 'BB', 'H', 'HR', 'R', 'RBI', 'SO', 'PA']\n",
    "for cat in batcats:\n",
    "    leaders60 = grouped.sum()[cat].sort_values(ascending=False)[:30]\n",
    "    leaders = full_grouped.sum()[cat].sort_values(ascending=False)[:30]\n",
    "    leaders60.to_csv(f'MLB_chartstats/leaders60{cat}.csv')\n",
    "    leaders.to_csv(f'MLB_chartstats/leaders{cat}.csv')"
   ]
  },
  {
   "cell_type": "code",
   "execution_count": 459,
   "metadata": {},
   "outputs": [
    {
     "name": "stdout",
     "output_type": "stream",
     "text": [
      "Luke Voit hit 22 homeruns in 2020.  \n",
      "Here are the top season starts historically:\n"
     ]
    },
    {
     "data": {
      "text/html": [
       "<div>\n",
       "<style scoped>\n",
       "    .dataframe tbody tr th:only-of-type {\n",
       "        vertical-align: middle;\n",
       "    }\n",
       "\n",
       "    .dataframe tbody tr th {\n",
       "        vertical-align: top;\n",
       "    }\n",
       "\n",
       "    .dataframe thead th {\n",
       "        text-align: right;\n",
       "    }\n",
       "</style>\n",
       "<table border=\"1\" class=\"dataframe\">\n",
       "  <thead>\n",
       "    <tr style=\"text-align: right;\">\n",
       "      <th></th>\n",
       "      <th></th>\n",
       "      <th>HR</th>\n",
       "    </tr>\n",
       "    <tr>\n",
       "      <th>season</th>\n",
       "      <th>name</th>\n",
       "      <th></th>\n",
       "    </tr>\n",
       "  </thead>\n",
       "  <tbody>\n",
       "    <tr>\n",
       "      <td>2001</td>\n",
       "      <td>Barry Bonds</td>\n",
       "      <td>32</td>\n",
       "    </tr>\n",
       "    <tr>\n",
       "      <td>1998</td>\n",
       "      <td>Mark McGwire</td>\n",
       "      <td>28</td>\n",
       "    </tr>\n",
       "    <tr>\n",
       "      <td>1928</td>\n",
       "      <td>Babe Ruth</td>\n",
       "      <td>27</td>\n",
       "    </tr>\n",
       "    <tr>\n",
       "      <td>1956</td>\n",
       "      <td>Mickey Mantle</td>\n",
       "      <td>27</td>\n",
       "    </tr>\n",
       "    <tr>\n",
       "      <td>1969</td>\n",
       "      <td>Reggie Jackson</td>\n",
       "      <td>26</td>\n",
       "    </tr>\n",
       "    <tr>\n",
       "      <td>2006</td>\n",
       "      <td>Albert Pujols</td>\n",
       "      <td>25</td>\n",
       "    </tr>\n",
       "    <tr>\n",
       "      <td>1997</td>\n",
       "      <td>Ken Griffey (2)</td>\n",
       "      <td>25</td>\n",
       "    </tr>\n",
       "    <tr>\n",
       "      <td>1994</td>\n",
       "      <td>Ken Griffey (2)</td>\n",
       "      <td>25</td>\n",
       "    </tr>\n",
       "    <tr>\n",
       "      <td>2000</td>\n",
       "      <td>Barry Bonds</td>\n",
       "      <td>25</td>\n",
       "    </tr>\n",
       "    <tr>\n",
       "      <td>1932</td>\n",
       "      <td>Jimmie Foxx</td>\n",
       "      <td>25</td>\n",
       "    </tr>\n",
       "    <tr>\n",
       "      <td>1996</td>\n",
       "      <td>Albert Belle</td>\n",
       "      <td>24</td>\n",
       "    </tr>\n",
       "    <tr>\n",
       "      <td>1921</td>\n",
       "      <td>Babe Ruth</td>\n",
       "      <td>24</td>\n",
       "    </tr>\n",
       "    <tr>\n",
       "      <td>1927</td>\n",
       "      <td>Babe Ruth</td>\n",
       "      <td>24</td>\n",
       "    </tr>\n",
       "    <tr>\n",
       "      <td>1930</td>\n",
       "      <td>Babe Ruth</td>\n",
       "      <td>24</td>\n",
       "    </tr>\n",
       "    <tr>\n",
       "      <td>1979</td>\n",
       "      <td>Dave Kingman</td>\n",
       "      <td>23</td>\n",
       "    </tr>\n",
       "    <tr>\n",
       "      <td>1989</td>\n",
       "      <td>Kevin Mitchell</td>\n",
       "      <td>23</td>\n",
       "    </tr>\n",
       "    <tr>\n",
       "      <td>1970</td>\n",
       "      <td>Tony Perez</td>\n",
       "      <td>23</td>\n",
       "    </tr>\n",
       "    <tr>\n",
       "      <td>1999</td>\n",
       "      <td>Ken Griffey (2)</td>\n",
       "      <td>23</td>\n",
       "    </tr>\n",
       "    <tr>\n",
       "      <td>1987</td>\n",
       "      <td>George Bell</td>\n",
       "      <td>23</td>\n",
       "    </tr>\n",
       "    <tr>\n",
       "      <td>1992</td>\n",
       "      <td>Mark McGwire</td>\n",
       "      <td>23</td>\n",
       "    </tr>\n",
       "    <tr>\n",
       "      <td>2012</td>\n",
       "      <td>Josh Hamilton</td>\n",
       "      <td>22</td>\n",
       "    </tr>\n",
       "    <tr>\n",
       "      <td>2006</td>\n",
       "      <td>Alfonso Soriano</td>\n",
       "      <td>22</td>\n",
       "    </tr>\n",
       "    <tr>\n",
       "      <td>1959</td>\n",
       "      <td>Eddie Mathews</td>\n",
       "      <td>22</td>\n",
       "    </tr>\n",
       "    <tr>\n",
       "      <td>1994</td>\n",
       "      <td>Frank Thomas</td>\n",
       "      <td>22</td>\n",
       "    </tr>\n",
       "    <tr>\n",
       "      <td>1968</td>\n",
       "      <td>Frank Howard</td>\n",
       "      <td>22</td>\n",
       "    </tr>\n",
       "    <tr>\n",
       "      <td>2009</td>\n",
       "      <td>Adrian Gonzalez</td>\n",
       "      <td>22</td>\n",
       "    </tr>\n",
       "    <tr>\n",
       "      <td>1999</td>\n",
       "      <td>Jose Canseco</td>\n",
       "      <td>22</td>\n",
       "    </tr>\n",
       "    <tr>\n",
       "      <td>1955</td>\n",
       "      <td>Duke Snider</td>\n",
       "      <td>22</td>\n",
       "    </tr>\n",
       "    <tr>\n",
       "      <td>2019</td>\n",
       "      <td>Christian Yelich</td>\n",
       "      <td>22</td>\n",
       "    </tr>\n",
       "    <tr>\n",
       "      <td>1998</td>\n",
       "      <td>Ken Griffey (2)</td>\n",
       "      <td>22</td>\n",
       "    </tr>\n",
       "  </tbody>\n",
       "</table>\n",
       "</div>"
      ],
      "text/plain": [
       "                         HR\n",
       "season name                \n",
       "2001   Barry Bonds       32\n",
       "1998   Mark McGwire      28\n",
       "1928   Babe Ruth         27\n",
       "1956   Mickey Mantle     27\n",
       "1969   Reggie Jackson    26\n",
       "2006   Albert Pujols     25\n",
       "1997   Ken Griffey (2)   25\n",
       "1994   Ken Griffey (2)   25\n",
       "2000   Barry Bonds       25\n",
       "1932   Jimmie Foxx       25\n",
       "1996   Albert Belle      24\n",
       "1921   Babe Ruth         24\n",
       "1927   Babe Ruth         24\n",
       "1930   Babe Ruth         24\n",
       "1979   Dave Kingman      23\n",
       "1989   Kevin Mitchell    23\n",
       "1970   Tony Perez        23\n",
       "1999   Ken Griffey (2)   23\n",
       "1987   George Bell       23\n",
       "1992   Mark McGwire      23\n",
       "2012   Josh Hamilton     22\n",
       "2006   Alfonso Soriano   22\n",
       "1959   Eddie Mathews     22\n",
       "1994   Frank Thomas      22\n",
       "1968   Frank Howard      22\n",
       "2009   Adrian Gonzalez   22\n",
       "1999   Jose Canseco      22\n",
       "1955   Duke Snider       22\n",
       "2019   Christian Yelich  22\n",
       "1998   Ken Griffey (2)   22"
      ]
     },
     "execution_count": 459,
     "metadata": {},
     "output_type": "execute_result"
    }
   ],
   "source": [
    "print('Luke Voit hit 22 homeruns in 2020.  \\nHere are the top season starts historically:')\n",
    "\n",
    "pd.DataFrame(grouped.HR.sum().sort_values(ascending=False)[:30])\n",
    "                                                                                                               "
   ]
  },
  {
   "cell_type": "markdown",
   "metadata": {},
   "source": [
    "Here's just the top number per season's start:"
   ]
  },
  {
   "cell_type": "code",
   "execution_count": 202,
   "metadata": {},
   "outputs": [],
   "source": [
    "def plot_2020_vs_historical(groups, stat, stat_2020, name_2020, ylab, title):\n",
    "    plt.scatter(range(1920, 2020), groups[stat].sum().groupby('season').max(),\n",
    "               label='', facecolors='none', edgecolors='k')\n",
    "    plt.axhline(stat_2020, c='y', label=name_2020 + ' 2020')\n",
    "    plt.ylabel(ylab)\n",
    "    plt.xlabel('season')\n",
    "    plt.grid(alpha=0.5)\n",
    "    plt.legend()\n",
    "    plt.title(title);"
   ]
  },
  {
   "cell_type": "code",
   "execution_count": 259,
   "metadata": {},
   "outputs": [
    {
     "data": {
      "image/png": "[encoded data removed]",
      "text/plain": [
       "<Figure size 432x288 with 1 Axes>"
      ]
     },
     "metadata": {
      "needs_background": "light"
     },
     "output_type": "display_data"
    }
   ],
   "source": [
    "plot_2020_vs_historical(grouped, 'HR', 22, 'Luke Voit', 'HR', \n",
    "                        'Homerun leader through first 60 games of each season')"
   ]
  },
  {
   "cell_type": "markdown",
   "metadata": {},
   "source": [
    "#### Luke Voit's 22 HR in 2020 were the same number hit by last year's early-season leader, and at the upper end of the range for the last 10 years.  So it's a solid number, but not historically unusual, although if you discount the steroid years around 2000, it looks even better."
   ]
  },
  {
   "cell_type": "code",
   "execution_count": 404,
   "metadata": {},
   "outputs": [
    {
     "name": "stdout",
     "output_type": "stream",
     "text": [
      "José Abreu had 60 Runs Batted In in 2020. \n",
      "Here are the top season starts historically:\n"
     ]
    },
    {
     "data": {
      "text/html": [
       "<div>\n",
       "<style scoped>\n",
       "    .dataframe tbody tr th:only-of-type {\n",
       "        vertical-align: middle;\n",
       "    }\n",
       "\n",
       "    .dataframe tbody tr th {\n",
       "        vertical-align: top;\n",
       "    }\n",
       "\n",
       "    .dataframe thead th {\n",
       "        text-align: right;\n",
       "    }\n",
       "</style>\n",
       "<table border=\"1\" class=\"dataframe\">\n",
       "  <thead>\n",
       "    <tr style=\"text-align: right;\">\n",
       "      <th></th>\n",
       "      <th></th>\n",
       "      <th>RBI</th>\n",
       "    </tr>\n",
       "    <tr>\n",
       "      <th>season</th>\n",
       "      <th>name</th>\n",
       "      <th></th>\n",
       "    </tr>\n",
       "  </thead>\n",
       "  <tbody>\n",
       "    <tr>\n",
       "      <td>1938</td>\n",
       "      <td>Jimmie Foxx</td>\n",
       "      <td>78.0</td>\n",
       "    </tr>\n",
       "    <tr>\n",
       "      <td>1929</td>\n",
       "      <td>Al Simmons</td>\n",
       "      <td>77.0</td>\n",
       "    </tr>\n",
       "    <tr>\n",
       "      <td>1930</td>\n",
       "      <td>Chuck Klein</td>\n",
       "      <td>77.0</td>\n",
       "    </tr>\n",
       "    <tr>\n",
       "      <td>1926</td>\n",
       "      <td>Babe Ruth</td>\n",
       "      <td>76.0</td>\n",
       "    </tr>\n",
       "    <tr>\n",
       "      <td>1998</td>\n",
       "      <td>Juan Gonzalez</td>\n",
       "      <td>76.0</td>\n",
       "    </tr>\n",
       "    <tr>\n",
       "      <td>1935</td>\n",
       "      <td>Hank Greenberg</td>\n",
       "      <td>75.0</td>\n",
       "    </tr>\n",
       "    <tr>\n",
       "      <td>1930</td>\n",
       "      <td>Lou Gehrig</td>\n",
       "      <td>73.0</td>\n",
       "    </tr>\n",
       "    <tr>\n",
       "      <td>1929</td>\n",
       "      <td>Mel Ott</td>\n",
       "      <td>73.0</td>\n",
       "    </tr>\n",
       "    <tr>\n",
       "      <td>1999</td>\n",
       "      <td>Manny Ramirez</td>\n",
       "      <td>72.0</td>\n",
       "    </tr>\n",
       "    <tr>\n",
       "      <td>1937</td>\n",
       "      <td>Joe Medwick</td>\n",
       "      <td>71.0</td>\n",
       "    </tr>\n",
       "    <tr>\n",
       "      <td>1927</td>\n",
       "      <td>Lou Gehrig</td>\n",
       "      <td>71.0</td>\n",
       "    </tr>\n",
       "    <tr>\n",
       "      <td>1954</td>\n",
       "      <td>Stan Musial</td>\n",
       "      <td>71.0</td>\n",
       "    </tr>\n",
       "    <tr>\n",
       "      <td>1927</td>\n",
       "      <td>Paul Waner</td>\n",
       "      <td>70.0</td>\n",
       "    </tr>\n",
       "    <tr>\n",
       "      <td>1932</td>\n",
       "      <td>Jimmie Foxx</td>\n",
       "      <td>70.0</td>\n",
       "    </tr>\n",
       "    <tr>\n",
       "      <td>1998</td>\n",
       "      <td>Mark McGwire</td>\n",
       "      <td>70.0</td>\n",
       "    </tr>\n",
       "    <tr>\n",
       "      <td>1929</td>\n",
       "      <td>Chick Hafey</td>\n",
       "      <td>70.0</td>\n",
       "    </tr>\n",
       "    <tr>\n",
       "      <td>1949</td>\n",
       "      <td>Ted Williams</td>\n",
       "      <td>69.0</td>\n",
       "    </tr>\n",
       "    <tr>\n",
       "      <td>1931</td>\n",
       "      <td>Lou Gehrig</td>\n",
       "      <td>69.0</td>\n",
       "    </tr>\n",
       "    <tr>\n",
       "      <td>1925</td>\n",
       "      <td>Bob Meusel</td>\n",
       "      <td>69.0</td>\n",
       "    </tr>\n",
       "    <tr>\n",
       "      <td>1948</td>\n",
       "      <td>Ted Williams</td>\n",
       "      <td>69.0</td>\n",
       "    </tr>\n",
       "    <tr>\n",
       "      <td>2000</td>\n",
       "      <td>Edgar Martinez</td>\n",
       "      <td>68.0</td>\n",
       "    </tr>\n",
       "    <tr>\n",
       "      <td>1932</td>\n",
       "      <td>Babe Ruth</td>\n",
       "      <td>68.0</td>\n",
       "    </tr>\n",
       "    <tr>\n",
       "      <td>2008</td>\n",
       "      <td>Josh Hamilton</td>\n",
       "      <td>67.0</td>\n",
       "    </tr>\n",
       "    <tr>\n",
       "      <td>1934</td>\n",
       "      <td>Lou Gehrig</td>\n",
       "      <td>67.0</td>\n",
       "    </tr>\n",
       "    <tr>\n",
       "      <td>1950</td>\n",
       "      <td>Vern Stephens</td>\n",
       "      <td>67.0</td>\n",
       "    </tr>\n",
       "    <tr>\n",
       "      <td>1925</td>\n",
       "      <td>Ken Williams</td>\n",
       "      <td>67.0</td>\n",
       "    </tr>\n",
       "    <tr>\n",
       "      <td>2013</td>\n",
       "      <td>Miguel Cabrera</td>\n",
       "      <td>67.0</td>\n",
       "    </tr>\n",
       "    <tr>\n",
       "      <td>1955</td>\n",
       "      <td>Duke Snider</td>\n",
       "      <td>66.0</td>\n",
       "    </tr>\n",
       "    <tr>\n",
       "      <td>2001</td>\n",
       "      <td>Bret Boone</td>\n",
       "      <td>66.0</td>\n",
       "    </tr>\n",
       "    <tr>\n",
       "      <td>1930</td>\n",
       "      <td>Babe Ruth</td>\n",
       "      <td>66.0</td>\n",
       "    </tr>\n",
       "  </tbody>\n",
       "</table>\n",
       "</div>"
      ],
      "text/plain": [
       "                        RBI\n",
       "season name                \n",
       "1938   Jimmie Foxx     78.0\n",
       "1929   Al Simmons      77.0\n",
       "1930   Chuck Klein     77.0\n",
       "1926   Babe Ruth       76.0\n",
       "1998   Juan Gonzalez   76.0\n",
       "1935   Hank Greenberg  75.0\n",
       "1930   Lou Gehrig      73.0\n",
       "1929   Mel Ott         73.0\n",
       "1999   Manny Ramirez   72.0\n",
       "1937   Joe Medwick     71.0\n",
       "1927   Lou Gehrig      71.0\n",
       "1954   Stan Musial     71.0\n",
       "1927   Paul Waner      70.0\n",
       "1932   Jimmie Foxx     70.0\n",
       "1998   Mark McGwire    70.0\n",
       "1929   Chick Hafey     70.0\n",
       "1949   Ted Williams    69.0\n",
       "1931   Lou Gehrig      69.0\n",
       "1925   Bob Meusel      69.0\n",
       "1948   Ted Williams    69.0\n",
       "2000   Edgar Martinez  68.0\n",
       "1932   Babe Ruth       68.0\n",
       "2008   Josh Hamilton   67.0\n",
       "1934   Lou Gehrig      67.0\n",
       "1950   Vern Stephens   67.0\n",
       "1925   Ken Williams    67.0\n",
       "2013   Miguel Cabrera  67.0\n",
       "1955   Duke Snider     66.0\n",
       "2001   Bret Boone      66.0\n",
       "1930   Babe Ruth       66.0"
      ]
     },
     "execution_count": 404,
     "metadata": {},
     "output_type": "execute_result"
    }
   ],
   "source": [
    "print('José Abreu had 60 Runs Batted In in 2020. \\nHere are the top season starts historically:')\n",
    "pd.DataFrame(grouped.RBI.sum().sort_values(ascending=False)[:30])"
   ]
  },
  {
   "cell_type": "code",
   "execution_count": 261,
   "metadata": {},
   "outputs": [
    {
     "data": {
      "image/png": "[encoded data removed]",
      "text/plain": [
       "<Figure size 432x288 with 1 Axes>"
      ]
     },
     "metadata": {
      "needs_background": "light"
     },
     "output_type": "display_data"
    }
   ],
   "source": [
    "plot_2020_vs_historical(grouped, 'RBI', 60, 'José Abreu', 'RBI', \n",
    "                       'RBI leader through first 60 games of each season')"
   ]
  },
  {
   "cell_type": "markdown",
   "metadata": {},
   "source": [
    "#### As with homeruns, the 60 RBI of José Abreu are impressive compared to most of the last 10 seasons, but somewhat in the middle of the historic pack."
   ]
  },
  {
   "cell_type": "code",
   "execution_count": 405,
   "metadata": {},
   "outputs": [
    {
     "name": "stdout",
     "output_type": "stream",
     "text": [
      "Kyle Tucker had 6 triples in 2020.  \n",
      "Here are the top season starts historically:\n"
     ]
    },
    {
     "data": {
      "text/html": [
       "<div>\n",
       "<style scoped>\n",
       "    .dataframe tbody tr th:only-of-type {\n",
       "        vertical-align: middle;\n",
       "    }\n",
       "\n",
       "    .dataframe tbody tr th {\n",
       "        vertical-align: top;\n",
       "    }\n",
       "\n",
       "    .dataframe thead th {\n",
       "        text-align: right;\n",
       "    }\n",
       "</style>\n",
       "<table border=\"1\" class=\"dataframe\">\n",
       "  <thead>\n",
       "    <tr style=\"text-align: right;\">\n",
       "      <th></th>\n",
       "      <th></th>\n",
       "      <th>3B</th>\n",
       "    </tr>\n",
       "    <tr>\n",
       "      <th>season</th>\n",
       "      <th>name</th>\n",
       "      <th></th>\n",
       "    </tr>\n",
       "  </thead>\n",
       "  <tbody>\n",
       "    <tr>\n",
       "      <td>1927</td>\n",
       "      <td>Paul Waner</td>\n",
       "      <td>13</td>\n",
       "    </tr>\n",
       "    <tr>\n",
       "      <td>1926</td>\n",
       "      <td>Lou Gehrig</td>\n",
       "      <td>12</td>\n",
       "    </tr>\n",
       "    <tr>\n",
       "      <td>2007</td>\n",
       "      <td>Curtis Granderson</td>\n",
       "      <td>12</td>\n",
       "    </tr>\n",
       "    <tr>\n",
       "      <td>1926</td>\n",
       "      <td>Glenn Wright</td>\n",
       "      <td>12</td>\n",
       "    </tr>\n",
       "    <tr>\n",
       "      <td>1921</td>\n",
       "      <td>Ty Cobb</td>\n",
       "      <td>12</td>\n",
       "    </tr>\n",
       "    <tr>\n",
       "      <td>1929</td>\n",
       "      <td>Lloyd Waner</td>\n",
       "      <td>11</td>\n",
       "    </tr>\n",
       "    <tr>\n",
       "      <td>2011</td>\n",
       "      <td>Jose Reyes</td>\n",
       "      <td>11</td>\n",
       "    </tr>\n",
       "    <tr>\n",
       "      <td>1930</td>\n",
       "      <td>Kiki Cuyler</td>\n",
       "      <td>11</td>\n",
       "    </tr>\n",
       "    <tr>\n",
       "      <td>1977</td>\n",
       "      <td>Rod Carew</td>\n",
       "      <td>11</td>\n",
       "    </tr>\n",
       "    <tr>\n",
       "      <td>1930</td>\n",
       "      <td>Earle Combs</td>\n",
       "      <td>11</td>\n",
       "    </tr>\n",
       "    <tr>\n",
       "      <td>1924</td>\n",
       "      <td>Glenn Wright</td>\n",
       "      <td>10</td>\n",
       "    </tr>\n",
       "    <tr>\n",
       "      <td>1925</td>\n",
       "      <td>Goose Goslin</td>\n",
       "      <td>10</td>\n",
       "    </tr>\n",
       "    <tr>\n",
       "      <td>1933</td>\n",
       "      <td>Earle Combs</td>\n",
       "      <td>10</td>\n",
       "    </tr>\n",
       "    <tr>\n",
       "      <td>1925</td>\n",
       "      <td>Kiki Cuyler</td>\n",
       "      <td>10</td>\n",
       "    </tr>\n",
       "    <tr>\n",
       "      <td>1920</td>\n",
       "      <td>Rogers Hornsby</td>\n",
       "      <td>10</td>\n",
       "    </tr>\n",
       "    <tr>\n",
       "      <td>1943</td>\n",
       "      <td>Stan Musial</td>\n",
       "      <td>10</td>\n",
       "    </tr>\n",
       "    <tr>\n",
       "      <td>1921</td>\n",
       "      <td>Howie Shanks</td>\n",
       "      <td>10</td>\n",
       "    </tr>\n",
       "    <tr>\n",
       "      <td>1929</td>\n",
       "      <td>Frankie Frisch</td>\n",
       "      <td>10</td>\n",
       "    </tr>\n",
       "    <tr>\n",
       "      <td>1930</td>\n",
       "      <td>Carl Reynolds</td>\n",
       "      <td>10</td>\n",
       "    </tr>\n",
       "    <tr>\n",
       "      <td>1928</td>\n",
       "      <td>Sam Rice</td>\n",
       "      <td>10</td>\n",
       "    </tr>\n",
       "    <tr>\n",
       "      <td>1921</td>\n",
       "      <td>Charlie Grimm</td>\n",
       "      <td>10</td>\n",
       "    </tr>\n",
       "    <tr>\n",
       "      <td>1932</td>\n",
       "      <td>Babe Herman</td>\n",
       "      <td>10</td>\n",
       "    </tr>\n",
       "    <tr>\n",
       "      <td>1985</td>\n",
       "      <td>Willie Wilson</td>\n",
       "      <td>10</td>\n",
       "    </tr>\n",
       "    <tr>\n",
       "      <td>1923</td>\n",
       "      <td>Jim Bottomley</td>\n",
       "      <td>10</td>\n",
       "    </tr>\n",
       "    <tr>\n",
       "      <td>1954</td>\n",
       "      <td>Pete Runnels</td>\n",
       "      <td>10</td>\n",
       "    </tr>\n",
       "    <tr>\n",
       "      <td>1992</td>\n",
       "      <td>Deion Sanders</td>\n",
       "      <td>10</td>\n",
       "    </tr>\n",
       "    <tr>\n",
       "      <td>1920</td>\n",
       "      <td>Carson Bigbee</td>\n",
       "      <td>10</td>\n",
       "    </tr>\n",
       "    <tr>\n",
       "      <td>1924</td>\n",
       "      <td>Rabbit Maranville</td>\n",
       "      <td>10</td>\n",
       "    </tr>\n",
       "    <tr>\n",
       "      <td>1932</td>\n",
       "      <td>Chuck Klein</td>\n",
       "      <td>10</td>\n",
       "    </tr>\n",
       "    <tr>\n",
       "      <td>1921</td>\n",
       "      <td>Rogers Hornsby</td>\n",
       "      <td>10</td>\n",
       "    </tr>\n",
       "  </tbody>\n",
       "</table>\n",
       "</div>"
      ],
      "text/plain": [
       "                          3B\n",
       "season name                 \n",
       "1927   Paul Waner         13\n",
       "1926   Lou Gehrig         12\n",
       "2007   Curtis Granderson  12\n",
       "1926   Glenn Wright       12\n",
       "1921   Ty Cobb            12\n",
       "1929   Lloyd Waner        11\n",
       "2011   Jose Reyes         11\n",
       "1930   Kiki Cuyler        11\n",
       "1977   Rod Carew          11\n",
       "1930   Earle Combs        11\n",
       "1924   Glenn Wright       10\n",
       "1925   Goose Goslin       10\n",
       "1933   Earle Combs        10\n",
       "1925   Kiki Cuyler        10\n",
       "1920   Rogers Hornsby     10\n",
       "1943   Stan Musial        10\n",
       "1921   Howie Shanks       10\n",
       "1929   Frankie Frisch     10\n",
       "1930   Carl Reynolds      10\n",
       "1928   Sam Rice           10\n",
       "1921   Charlie Grimm      10\n",
       "1932   Babe Herman        10\n",
       "1985   Willie Wilson      10\n",
       "1923   Jim Bottomley      10\n",
       "1954   Pete Runnels       10\n",
       "1992   Deion Sanders      10\n",
       "1920   Carson Bigbee      10\n",
       "1924   Rabbit Maranville  10\n",
       "1932   Chuck Klein        10\n",
       "1921   Rogers Hornsby     10"
      ]
     },
     "execution_count": 405,
     "metadata": {},
     "output_type": "execute_result"
    }
   ],
   "source": [
    "print('Kyle Tucker had 6 triples in 2020.  \\nHere are the top season starts historically:')\n",
    "pd.DataFrame(grouped[\"3B\"].sum().sort_values(ascending=False)[:30])"
   ]
  },
  {
   "cell_type": "code",
   "execution_count": 263,
   "metadata": {},
   "outputs": [
    {
     "data": {
      "image/png": "[encoded data removed]",
      "text/plain": [
       "<Figure size 432x288 with 1 Axes>"
      ]
     },
     "metadata": {
      "needs_background": "light"
     },
     "output_type": "display_data"
    }
   ],
   "source": [
    "plot_2020_vs_historical(grouped, '3B', 6, 'Kyle Tucker', '3B',\n",
    "                       'Triples leader through first 60 games of each season')"
   ]
  },
  {
   "cell_type": "markdown",
   "metadata": {},
   "source": [
    "#### Kyle Tucker's 6 triples are towards the bottom of the historic range."
   ]
  },
  {
   "cell_type": "code",
   "execution_count": 406,
   "metadata": {},
   "outputs": [
    {
     "name": "stdout",
     "output_type": "stream",
     "text": [
      "Freddie Freeman hit 23 doubles in 2020.  \n",
      "Here are the top season starts historically:\n"
     ]
    },
    {
     "data": {
      "text/html": [
       "<div>\n",
       "<style scoped>\n",
       "    .dataframe tbody tr th:only-of-type {\n",
       "        vertical-align: middle;\n",
       "    }\n",
       "\n",
       "    .dataframe tbody tr th {\n",
       "        vertical-align: top;\n",
       "    }\n",
       "\n",
       "    .dataframe thead th {\n",
       "        text-align: right;\n",
       "    }\n",
       "</style>\n",
       "<table border=\"1\" class=\"dataframe\">\n",
       "  <thead>\n",
       "    <tr style=\"text-align: right;\">\n",
       "      <th></th>\n",
       "      <th></th>\n",
       "      <th>2B</th>\n",
       "    </tr>\n",
       "    <tr>\n",
       "      <th>season</th>\n",
       "      <th>name</th>\n",
       "      <th></th>\n",
       "    </tr>\n",
       "  </thead>\n",
       "  <tbody>\n",
       "    <tr>\n",
       "      <td>1932</td>\n",
       "      <td>Paul Waner</td>\n",
       "      <td>33</td>\n",
       "    </tr>\n",
       "    <tr>\n",
       "      <td>1996</td>\n",
       "      <td>Edgar Martinez</td>\n",
       "      <td>32</td>\n",
       "    </tr>\n",
       "    <tr>\n",
       "      <td>1995</td>\n",
       "      <td>Mark Grace</td>\n",
       "      <td>32</td>\n",
       "    </tr>\n",
       "    <tr>\n",
       "      <td>2001</td>\n",
       "      <td>Mike Sweeney</td>\n",
       "      <td>29</td>\n",
       "    </tr>\n",
       "    <tr>\n",
       "      <td>1931</td>\n",
       "      <td>Earl Webb</td>\n",
       "      <td>29</td>\n",
       "    </tr>\n",
       "    <tr>\n",
       "      <td>2007</td>\n",
       "      <td>Magglio Ordonez</td>\n",
       "      <td>29</td>\n",
       "    </tr>\n",
       "    <tr>\n",
       "      <td>1994</td>\n",
       "      <td>Larry Walker</td>\n",
       "      <td>28</td>\n",
       "    </tr>\n",
       "    <tr>\n",
       "      <td>1925</td>\n",
       "      <td>Frank O'Rourke</td>\n",
       "      <td>28</td>\n",
       "    </tr>\n",
       "    <tr>\n",
       "      <td>1994</td>\n",
       "      <td>Chuck Knoblauch</td>\n",
       "      <td>28</td>\n",
       "    </tr>\n",
       "    <tr>\n",
       "      <td>1926</td>\n",
       "      <td>George Burns (2)</td>\n",
       "      <td>28</td>\n",
       "    </tr>\n",
       "    <tr>\n",
       "      <td>2016</td>\n",
       "      <td>David Ortiz</td>\n",
       "      <td>27</td>\n",
       "    </tr>\n",
       "    <tr>\n",
       "      <td>2004</td>\n",
       "      <td>Lyle Overbay</td>\n",
       "      <td>27</td>\n",
       "    </tr>\n",
       "    <tr>\n",
       "      <td>1998</td>\n",
       "      <td>Larry Walker</td>\n",
       "      <td>27</td>\n",
       "    </tr>\n",
       "    <tr>\n",
       "      <td>1936</td>\n",
       "      <td>Billy Herman</td>\n",
       "      <td>27</td>\n",
       "    </tr>\n",
       "    <tr>\n",
       "      <td>1932</td>\n",
       "      <td>Red Worthington</td>\n",
       "      <td>27</td>\n",
       "    </tr>\n",
       "    <tr>\n",
       "      <td>1998</td>\n",
       "      <td>Brad Fullmer</td>\n",
       "      <td>26</td>\n",
       "    </tr>\n",
       "    <tr>\n",
       "      <td>1922</td>\n",
       "      <td>Tris Speaker</td>\n",
       "      <td>26</td>\n",
       "    </tr>\n",
       "    <tr>\n",
       "      <td>2012</td>\n",
       "      <td>Joey Votto</td>\n",
       "      <td>26</td>\n",
       "    </tr>\n",
       "    <tr>\n",
       "      <td>2007</td>\n",
       "      <td>Chase Utley</td>\n",
       "      <td>26</td>\n",
       "    </tr>\n",
       "    <tr>\n",
       "      <td>2013</td>\n",
       "      <td>Manny Machado</td>\n",
       "      <td>26</td>\n",
       "    </tr>\n",
       "    <tr>\n",
       "      <td>1999</td>\n",
       "      <td>Craig Biggio</td>\n",
       "      <td>26</td>\n",
       "    </tr>\n",
       "    <tr>\n",
       "      <td>1940</td>\n",
       "      <td>Hank Greenberg</td>\n",
       "      <td>25</td>\n",
       "    </tr>\n",
       "    <tr>\n",
       "      <td>1931</td>\n",
       "      <td>Dick Bartell</td>\n",
       "      <td>25</td>\n",
       "    </tr>\n",
       "    <tr>\n",
       "      <td>1994</td>\n",
       "      <td>Lenny Dykstra</td>\n",
       "      <td>25</td>\n",
       "    </tr>\n",
       "    <tr>\n",
       "      <td>1925</td>\n",
       "      <td>Kiki Cuyler</td>\n",
       "      <td>25</td>\n",
       "    </tr>\n",
       "    <tr>\n",
       "      <td>1995</td>\n",
       "      <td>Albert Belle</td>\n",
       "      <td>25</td>\n",
       "    </tr>\n",
       "    <tr>\n",
       "      <td>1959</td>\n",
       "      <td>Gino Cimoli</td>\n",
       "      <td>25</td>\n",
       "    </tr>\n",
       "    <tr>\n",
       "      <td>1937</td>\n",
       "      <td>Joe Medwick</td>\n",
       "      <td>25</td>\n",
       "    </tr>\n",
       "    <tr>\n",
       "      <td>1939</td>\n",
       "      <td>Hank Greenberg</td>\n",
       "      <td>25</td>\n",
       "    </tr>\n",
       "    <tr>\n",
       "      <td>1959</td>\n",
       "      <td>Hank Aaron</td>\n",
       "      <td>24</td>\n",
       "    </tr>\n",
       "  </tbody>\n",
       "</table>\n",
       "</div>"
      ],
      "text/plain": [
       "                         2B\n",
       "season name                \n",
       "1932   Paul Waner        33\n",
       "1996   Edgar Martinez    32\n",
       "1995   Mark Grace        32\n",
       "2001   Mike Sweeney      29\n",
       "1931   Earl Webb         29\n",
       "2007   Magglio Ordonez   29\n",
       "1994   Larry Walker      28\n",
       "1925   Frank O'Rourke    28\n",
       "1994   Chuck Knoblauch   28\n",
       "1926   George Burns (2)  28\n",
       "2016   David Ortiz       27\n",
       "2004   Lyle Overbay      27\n",
       "1998   Larry Walker      27\n",
       "1936   Billy Herman      27\n",
       "1932   Red Worthington   27\n",
       "1998   Brad Fullmer      26\n",
       "1922   Tris Speaker      26\n",
       "2012   Joey Votto        26\n",
       "2007   Chase Utley       26\n",
       "2013   Manny Machado     26\n",
       "1999   Craig Biggio      26\n",
       "1940   Hank Greenberg    25\n",
       "1931   Dick Bartell      25\n",
       "1994   Lenny Dykstra     25\n",
       "1925   Kiki Cuyler       25\n",
       "1995   Albert Belle      25\n",
       "1959   Gino Cimoli       25\n",
       "1937   Joe Medwick       25\n",
       "1939   Hank Greenberg    25\n",
       "1959   Hank Aaron        24"
      ]
     },
     "execution_count": 406,
     "metadata": {},
     "output_type": "execute_result"
    }
   ],
   "source": [
    "print('Freddie Freeman hit 23 doubles in 2020.  \\nHere are the top season starts historically:')\n",
    "pd.DataFrame(grouped[\"2B\"].sum().sort_values(ascending=False)[:30])"
   ]
  },
  {
   "cell_type": "code",
   "execution_count": 265,
   "metadata": {},
   "outputs": [
    {
     "data": {
      "image/png": "[encoded data removed]",
      "text/plain": [
       "<Figure size 432x288 with 1 Axes>"
      ]
     },
     "metadata": {
      "needs_background": "light"
     },
     "output_type": "display_data"
    }
   ],
   "source": [
    "plot_2020_vs_historical(grouped, '2B', 23, 'Freddie Freeman', 'Doubles',\n",
    "                       'Doubles leader through first 60 games of each season')"
   ]
  },
  {
   "cell_type": "markdown",
   "metadata": {},
   "source": [
    "#### Freddie Freeman's 23 doubles were right about what you probably would've predicted if you studied historic stats."
   ]
  },
  {
   "cell_type": "code",
   "execution_count": 407,
   "metadata": {},
   "outputs": [
    {
     "name": "stdout",
     "output_type": "stream",
     "text": [
      "Trea Turner had 78 hits in 2020. \n",
      "Here are the top season starts historically:\n"
     ]
    },
    {
     "data": {
      "text/html": [
       "<div>\n",
       "<style scoped>\n",
       "    .dataframe tbody tr th:only-of-type {\n",
       "        vertical-align: middle;\n",
       "    }\n",
       "\n",
       "    .dataframe tbody tr th {\n",
       "        vertical-align: top;\n",
       "    }\n",
       "\n",
       "    .dataframe thead th {\n",
       "        text-align: right;\n",
       "    }\n",
       "</style>\n",
       "<table border=\"1\" class=\"dataframe\">\n",
       "  <thead>\n",
       "    <tr style=\"text-align: right;\">\n",
       "      <th></th>\n",
       "      <th></th>\n",
       "      <th>H</th>\n",
       "    </tr>\n",
       "    <tr>\n",
       "      <th>season</th>\n",
       "      <th>name</th>\n",
       "      <th></th>\n",
       "    </tr>\n",
       "  </thead>\n",
       "  <tbody>\n",
       "    <tr>\n",
       "      <td>1922</td>\n",
       "      <td>George Sisler</td>\n",
       "      <td>109</td>\n",
       "    </tr>\n",
       "    <tr>\n",
       "      <td>1920</td>\n",
       "      <td>George Sisler</td>\n",
       "      <td>104</td>\n",
       "    </tr>\n",
       "    <tr>\n",
       "      <td>1934</td>\n",
       "      <td>Heinie Manush</td>\n",
       "      <td>102</td>\n",
       "    </tr>\n",
       "    <tr>\n",
       "      <td>1925</td>\n",
       "      <td>Al Simmons</td>\n",
       "      <td>101</td>\n",
       "    </tr>\n",
       "    <tr>\n",
       "      <td>1921</td>\n",
       "      <td>Ty Cobb</td>\n",
       "      <td>101</td>\n",
       "    </tr>\n",
       "    <tr>\n",
       "      <td>1930</td>\n",
       "      <td>Chuck Klein</td>\n",
       "      <td>101</td>\n",
       "    </tr>\n",
       "    <tr>\n",
       "      <td>1928</td>\n",
       "      <td>Taylor Douthit</td>\n",
       "      <td>101</td>\n",
       "    </tr>\n",
       "    <tr>\n",
       "      <td>2000</td>\n",
       "      <td>Darin Erstad</td>\n",
       "      <td>99</td>\n",
       "    </tr>\n",
       "    <tr>\n",
       "      <td>1921</td>\n",
       "      <td>Rogers Hornsby</td>\n",
       "      <td>98</td>\n",
       "    </tr>\n",
       "    <tr>\n",
       "      <td>1925</td>\n",
       "      <td>George Sisler</td>\n",
       "      <td>98</td>\n",
       "    </tr>\n",
       "    <tr>\n",
       "      <td>1959</td>\n",
       "      <td>Hank Aaron</td>\n",
       "      <td>98</td>\n",
       "    </tr>\n",
       "    <tr>\n",
       "      <td>1945</td>\n",
       "      <td>Tommy Holmes</td>\n",
       "      <td>98</td>\n",
       "    </tr>\n",
       "    <tr>\n",
       "      <td>1930</td>\n",
       "      <td>Bill Terry</td>\n",
       "      <td>98</td>\n",
       "    </tr>\n",
       "    <tr>\n",
       "      <td>2001</td>\n",
       "      <td>Ichiro Suzuki</td>\n",
       "      <td>98</td>\n",
       "    </tr>\n",
       "    <tr>\n",
       "      <td>1921</td>\n",
       "      <td>Harry Heilmann</td>\n",
       "      <td>97</td>\n",
       "    </tr>\n",
       "    <tr>\n",
       "      <td>1932</td>\n",
       "      <td>Paul Waner</td>\n",
       "      <td>96</td>\n",
       "    </tr>\n",
       "    <tr>\n",
       "      <td>1969</td>\n",
       "      <td>Matty Alou</td>\n",
       "      <td>96</td>\n",
       "    </tr>\n",
       "    <tr>\n",
       "      <td>1974</td>\n",
       "      <td>Ralph Garr</td>\n",
       "      <td>96</td>\n",
       "    </tr>\n",
       "    <tr>\n",
       "      <td>1929</td>\n",
       "      <td>Bill Terry</td>\n",
       "      <td>96</td>\n",
       "    </tr>\n",
       "    <tr>\n",
       "      <td>1988</td>\n",
       "      <td>Carney Lansford</td>\n",
       "      <td>96</td>\n",
       "    </tr>\n",
       "    <tr>\n",
       "      <td>1927</td>\n",
       "      <td>Frankie Frisch</td>\n",
       "      <td>96</td>\n",
       "    </tr>\n",
       "    <tr>\n",
       "      <td>1925</td>\n",
       "      <td>Max Carey</td>\n",
       "      <td>95</td>\n",
       "    </tr>\n",
       "    <tr>\n",
       "      <td>1927</td>\n",
       "      <td>Paul Waner</td>\n",
       "      <td>95</td>\n",
       "    </tr>\n",
       "    <tr>\n",
       "      <td>1934</td>\n",
       "      <td>Charlie Gehringer</td>\n",
       "      <td>95</td>\n",
       "    </tr>\n",
       "    <tr>\n",
       "      <td>1996</td>\n",
       "      <td>Roberto Alomar</td>\n",
       "      <td>95</td>\n",
       "    </tr>\n",
       "    <tr>\n",
       "      <td>1930</td>\n",
       "      <td>Babe Herman</td>\n",
       "      <td>94</td>\n",
       "    </tr>\n",
       "    <tr>\n",
       "      <td>1997</td>\n",
       "      <td>Tony Gwynn</td>\n",
       "      <td>94</td>\n",
       "    </tr>\n",
       "    <tr>\n",
       "      <td>1933</td>\n",
       "      <td>Heinie Manush</td>\n",
       "      <td>94</td>\n",
       "    </tr>\n",
       "    <tr>\n",
       "      <td>1923</td>\n",
       "      <td>Frankie Frisch</td>\n",
       "      <td>94</td>\n",
       "    </tr>\n",
       "    <tr>\n",
       "      <td>1922</td>\n",
       "      <td>Rogers Hornsby</td>\n",
       "      <td>93</td>\n",
       "    </tr>\n",
       "  </tbody>\n",
       "</table>\n",
       "</div>"
      ],
      "text/plain": [
       "                            H\n",
       "season name                  \n",
       "1922   George Sisler      109\n",
       "1920   George Sisler      104\n",
       "1934   Heinie Manush      102\n",
       "1925   Al Simmons         101\n",
       "1921   Ty Cobb            101\n",
       "1930   Chuck Klein        101\n",
       "1928   Taylor Douthit     101\n",
       "2000   Darin Erstad        99\n",
       "1921   Rogers Hornsby      98\n",
       "1925   George Sisler       98\n",
       "1959   Hank Aaron          98\n",
       "1945   Tommy Holmes        98\n",
       "1930   Bill Terry          98\n",
       "2001   Ichiro Suzuki       98\n",
       "1921   Harry Heilmann      97\n",
       "1932   Paul Waner          96\n",
       "1969   Matty Alou          96\n",
       "1974   Ralph Garr          96\n",
       "1929   Bill Terry          96\n",
       "1988   Carney Lansford     96\n",
       "1927   Frankie Frisch      96\n",
       "1925   Max Carey           95\n",
       "1927   Paul Waner          95\n",
       "1934   Charlie Gehringer   95\n",
       "1996   Roberto Alomar      95\n",
       "1930   Babe Herman         94\n",
       "1997   Tony Gwynn          94\n",
       "1933   Heinie Manush       94\n",
       "1923   Frankie Frisch      94\n",
       "1922   Rogers Hornsby      93"
      ]
     },
     "execution_count": 407,
     "metadata": {},
     "output_type": "execute_result"
    }
   ],
   "source": [
    "print('Trea Turner had 78 hits in 2020. \\nHere are the top season starts historically:')\n",
    "pd.DataFrame(grouped[\"H\"].sum().sort_values(ascending=False)[:30])"
   ]
  },
  {
   "cell_type": "code",
   "execution_count": 371,
   "metadata": {},
   "outputs": [
    {
     "data": {
      "image/png": "[encoded data removed]",
      "text/plain": [
       "<Figure size 432x288 with 1 Axes>"
      ]
     },
     "metadata": {
      "needs_background": "light"
     },
     "output_type": "display_data"
    }
   ],
   "source": [
    "plot_2020_vs_historical(grouped, 'H', 78, 'Trea Turner', 'Hits', \n",
    "                       'Hits leader through first 60 games of each season')"
   ]
  },
  {
   "cell_type": "markdown",
   "metadata": {},
   "source": [
    "#### Trea Turner's league-leading 78 hits in 2020 are lower than would probably be expected.  Only 2 years in the last century had a lower total for the league leader after 60 games.  With normal rules, the number would probably have been right in line with the last 3 years though, as we'll see below when we look at Plate Appearances."
   ]
  },
  {
   "cell_type": "code",
   "execution_count": 408,
   "metadata": {},
   "outputs": [
    {
     "name": "stdout",
     "output_type": "stream",
     "text": [
      "Freddie Freeman scored 51 runs in 2020.  \n",
      "Here are the top season starts historically:\n"
     ]
    },
    {
     "data": {
      "text/html": [
       "<div>\n",
       "<style scoped>\n",
       "    .dataframe tbody tr th:only-of-type {\n",
       "        vertical-align: middle;\n",
       "    }\n",
       "\n",
       "    .dataframe tbody tr th {\n",
       "        vertical-align: top;\n",
       "    }\n",
       "\n",
       "    .dataframe thead th {\n",
       "        text-align: right;\n",
       "    }\n",
       "</style>\n",
       "<table border=\"1\" class=\"dataframe\">\n",
       "  <thead>\n",
       "    <tr style=\"text-align: right;\">\n",
       "      <th></th>\n",
       "      <th></th>\n",
       "      <th>R</th>\n",
       "    </tr>\n",
       "    <tr>\n",
       "      <th>season</th>\n",
       "      <th>name</th>\n",
       "      <th></th>\n",
       "    </tr>\n",
       "  </thead>\n",
       "  <tbody>\n",
       "    <tr>\n",
       "      <td>1930</td>\n",
       "      <td>Babe Ruth</td>\n",
       "      <td>76</td>\n",
       "    </tr>\n",
       "    <tr>\n",
       "      <td>1936</td>\n",
       "      <td>Lou Gehrig</td>\n",
       "      <td>74</td>\n",
       "    </tr>\n",
       "    <tr>\n",
       "      <td>1925</td>\n",
       "      <td>Kiki Cuyler</td>\n",
       "      <td>72</td>\n",
       "    </tr>\n",
       "    <tr>\n",
       "      <td>1928</td>\n",
       "      <td>Babe Ruth</td>\n",
       "      <td>67</td>\n",
       "    </tr>\n",
       "    <tr>\n",
       "      <td>1994</td>\n",
       "      <td>Frank Thomas</td>\n",
       "      <td>66</td>\n",
       "    </tr>\n",
       "    <tr>\n",
       "      <td>1932</td>\n",
       "      <td>Chuck Klein</td>\n",
       "      <td>65</td>\n",
       "    </tr>\n",
       "    <tr>\n",
       "      <td>1927</td>\n",
       "      <td>Babe Ruth</td>\n",
       "      <td>65</td>\n",
       "    </tr>\n",
       "    <tr>\n",
       "      <td>1921</td>\n",
       "      <td>Ty Cobb</td>\n",
       "      <td>65</td>\n",
       "    </tr>\n",
       "    <tr>\n",
       "      <td>1926</td>\n",
       "      <td>Babe Ruth</td>\n",
       "      <td>64</td>\n",
       "    </tr>\n",
       "    <tr>\n",
       "      <td>1949</td>\n",
       "      <td>Eddie Joost</td>\n",
       "      <td>63</td>\n",
       "    </tr>\n",
       "    <tr>\n",
       "      <td>1921</td>\n",
       "      <td>Babe Ruth</td>\n",
       "      <td>63</td>\n",
       "    </tr>\n",
       "    <tr>\n",
       "      <td>1929</td>\n",
       "      <td>Mel Ott</td>\n",
       "      <td>62</td>\n",
       "    </tr>\n",
       "    <tr>\n",
       "      <td>1926</td>\n",
       "      <td>Lou Gehrig</td>\n",
       "      <td>62</td>\n",
       "    </tr>\n",
       "    <tr>\n",
       "      <td>1930</td>\n",
       "      <td>Earle Combs</td>\n",
       "      <td>62</td>\n",
       "    </tr>\n",
       "    <tr>\n",
       "      <td>1934</td>\n",
       "      <td>Arky Vaughan</td>\n",
       "      <td>62</td>\n",
       "    </tr>\n",
       "    <tr>\n",
       "      <td>1956</td>\n",
       "      <td>Mickey Mantle</td>\n",
       "      <td>62</td>\n",
       "    </tr>\n",
       "    <tr>\n",
       "      <td>1947</td>\n",
       "      <td>Johnny Mize</td>\n",
       "      <td>62</td>\n",
       "    </tr>\n",
       "    <tr>\n",
       "      <td>2000</td>\n",
       "      <td>Alex Rodriguez</td>\n",
       "      <td>62</td>\n",
       "    </tr>\n",
       "    <tr>\n",
       "      <td>1921</td>\n",
       "      <td>Jack Tobin</td>\n",
       "      <td>61</td>\n",
       "    </tr>\n",
       "    <tr>\n",
       "      <td>1932</td>\n",
       "      <td>Jimmie Foxx</td>\n",
       "      <td>61</td>\n",
       "    </tr>\n",
       "    <tr>\n",
       "      <td>1930</td>\n",
       "      <td>Woody English</td>\n",
       "      <td>61</td>\n",
       "    </tr>\n",
       "    <tr>\n",
       "      <td>2001</td>\n",
       "      <td>Todd Helton</td>\n",
       "      <td>61</td>\n",
       "    </tr>\n",
       "    <tr>\n",
       "      <td>1997</td>\n",
       "      <td>Larry Walker</td>\n",
       "      <td>61</td>\n",
       "    </tr>\n",
       "    <tr>\n",
       "      <td>1973</td>\n",
       "      <td>Bobby Bonds</td>\n",
       "      <td>61</td>\n",
       "    </tr>\n",
       "    <tr>\n",
       "      <td>1933</td>\n",
       "      <td>Lou Gehrig</td>\n",
       "      <td>60</td>\n",
       "    </tr>\n",
       "    <tr>\n",
       "      <td>1930</td>\n",
       "      <td>Chuck Klein</td>\n",
       "      <td>60</td>\n",
       "    </tr>\n",
       "    <tr>\n",
       "      <td>1925</td>\n",
       "      <td>Al Simmons</td>\n",
       "      <td>60</td>\n",
       "    </tr>\n",
       "    <tr>\n",
       "      <td>1999</td>\n",
       "      <td>Kenny Lofton</td>\n",
       "      <td>60</td>\n",
       "    </tr>\n",
       "    <tr>\n",
       "      <td>1930</td>\n",
       "      <td>Babe Herman</td>\n",
       "      <td>60</td>\n",
       "    </tr>\n",
       "    <tr>\n",
       "      <td>2000</td>\n",
       "      <td>Todd Helton</td>\n",
       "      <td>60</td>\n",
       "    </tr>\n",
       "  </tbody>\n",
       "</table>\n",
       "</div>"
      ],
      "text/plain": [
       "                        R\n",
       "season name              \n",
       "1930   Babe Ruth       76\n",
       "1936   Lou Gehrig      74\n",
       "1925   Kiki Cuyler     72\n",
       "1928   Babe Ruth       67\n",
       "1994   Frank Thomas    66\n",
       "1932   Chuck Klein     65\n",
       "1927   Babe Ruth       65\n",
       "1921   Ty Cobb         65\n",
       "1926   Babe Ruth       64\n",
       "1949   Eddie Joost     63\n",
       "1921   Babe Ruth       63\n",
       "1929   Mel Ott         62\n",
       "1926   Lou Gehrig      62\n",
       "1930   Earle Combs     62\n",
       "1934   Arky Vaughan    62\n",
       "1956   Mickey Mantle   62\n",
       "1947   Johnny Mize     62\n",
       "2000   Alex Rodriguez  62\n",
       "1921   Jack Tobin      61\n",
       "1932   Jimmie Foxx     61\n",
       "1930   Woody English   61\n",
       "2001   Todd Helton     61\n",
       "1997   Larry Walker    61\n",
       "1973   Bobby Bonds     61\n",
       "1933   Lou Gehrig      60\n",
       "1930   Chuck Klein     60\n",
       "1925   Al Simmons      60\n",
       "1999   Kenny Lofton    60\n",
       "1930   Babe Herman     60\n",
       "2000   Todd Helton     60"
      ]
     },
     "execution_count": 408,
     "metadata": {},
     "output_type": "execute_result"
    }
   ],
   "source": [
    "print('Freddie Freeman scored 51 runs in 2020.  \\nHere are the top season starts historically:')\n",
    "pd.DataFrame(grouped[\"R\"].sum().sort_values(ascending=False)[:30])"
   ]
  },
  {
   "cell_type": "code",
   "execution_count": 273,
   "metadata": {},
   "outputs": [
    {
     "data": {
      "image/png": "[encoded data removed]",
      "text/plain": [
       "<Figure size 432x288 with 1 Axes>"
      ]
     },
     "metadata": {
      "needs_background": "light"
     },
     "output_type": "display_data"
    }
   ],
   "source": [
    "plot_2020_vs_historical(grouped, 'R', 51, 'Freddie Freeman', 'Runs scored',\n",
    "                        'Runs leader through first 60 games of each season')"
   ]
  },
  {
   "cell_type": "markdown",
   "metadata": {},
   "source": [
    "#### 51 runs through 60 games is right in line with past years."
   ]
  },
  {
   "cell_type": "code",
   "execution_count": 409,
   "metadata": {},
   "outputs": [
    {
     "name": "stdout",
     "output_type": "stream",
     "text": [
      "Bryce Harper walked 49 times in 2020.  \n",
      "Here are the top season starts historically:\n"
     ]
    },
    {
     "data": {
      "text/html": [
       "<div>\n",
       "<style scoped>\n",
       "    .dataframe tbody tr th:only-of-type {\n",
       "        vertical-align: middle;\n",
       "    }\n",
       "\n",
       "    .dataframe tbody tr th {\n",
       "        vertical-align: top;\n",
       "    }\n",
       "\n",
       "    .dataframe thead th {\n",
       "        text-align: right;\n",
       "    }\n",
       "</style>\n",
       "<table border=\"1\" class=\"dataframe\">\n",
       "  <thead>\n",
       "    <tr style=\"text-align: right;\">\n",
       "      <th></th>\n",
       "      <th></th>\n",
       "      <th>BB</th>\n",
       "    </tr>\n",
       "    <tr>\n",
       "      <th>season</th>\n",
       "      <th>name</th>\n",
       "      <th></th>\n",
       "    </tr>\n",
       "  </thead>\n",
       "  <tbody>\n",
       "    <tr>\n",
       "      <td>2004</td>\n",
       "      <td>Barry Bonds</td>\n",
       "      <td>82</td>\n",
       "    </tr>\n",
       "    <tr>\n",
       "      <td>1947</td>\n",
       "      <td>Ted Williams</td>\n",
       "      <td>77</td>\n",
       "    </tr>\n",
       "    <tr>\n",
       "      <td>1923</td>\n",
       "      <td>Babe Ruth</td>\n",
       "      <td>74</td>\n",
       "    </tr>\n",
       "    <tr>\n",
       "      <td>1929</td>\n",
       "      <td>Max Bishop</td>\n",
       "      <td>71</td>\n",
       "    </tr>\n",
       "    <tr>\n",
       "      <td>1956</td>\n",
       "      <td>Eddie Yost</td>\n",
       "      <td>70</td>\n",
       "    </tr>\n",
       "    <tr>\n",
       "      <td>2002</td>\n",
       "      <td>Barry Bonds</td>\n",
       "      <td>70</td>\n",
       "    </tr>\n",
       "    <tr>\n",
       "      <td>1951</td>\n",
       "      <td>Ted Williams</td>\n",
       "      <td>69</td>\n",
       "    </tr>\n",
       "    <tr>\n",
       "      <td>1995</td>\n",
       "      <td>Frank Thomas</td>\n",
       "      <td>66</td>\n",
       "    </tr>\n",
       "    <tr>\n",
       "      <td>1946</td>\n",
       "      <td>Ted Williams</td>\n",
       "      <td>66</td>\n",
       "    </tr>\n",
       "    <tr>\n",
       "      <td>1982</td>\n",
       "      <td>Rickey Henderson</td>\n",
       "      <td>66</td>\n",
       "    </tr>\n",
       "    <tr>\n",
       "      <td>1930</td>\n",
       "      <td>Babe Ruth</td>\n",
       "      <td>66</td>\n",
       "    </tr>\n",
       "    <tr>\n",
       "      <td>1957</td>\n",
       "      <td>Mickey Mantle</td>\n",
       "      <td>65</td>\n",
       "    </tr>\n",
       "    <tr>\n",
       "      <td>1924</td>\n",
       "      <td>Babe Ruth</td>\n",
       "      <td>65</td>\n",
       "    </tr>\n",
       "    <tr>\n",
       "      <td>1948</td>\n",
       "      <td>Ted Williams</td>\n",
       "      <td>64</td>\n",
       "    </tr>\n",
       "    <tr>\n",
       "      <td>1998</td>\n",
       "      <td>Mark McGwire</td>\n",
       "      <td>64</td>\n",
       "    </tr>\n",
       "    <tr>\n",
       "      <td>2006</td>\n",
       "      <td>Bobby Abreu</td>\n",
       "      <td>63</td>\n",
       "    </tr>\n",
       "    <tr>\n",
       "      <td>1933</td>\n",
       "      <td>Babe Ruth</td>\n",
       "      <td>62</td>\n",
       "    </tr>\n",
       "    <tr>\n",
       "      <td>1950</td>\n",
       "      <td>Eddie Stanky</td>\n",
       "      <td>61</td>\n",
       "    </tr>\n",
       "    <tr>\n",
       "      <td>1970</td>\n",
       "      <td>Frank Howard</td>\n",
       "      <td>61</td>\n",
       "    </tr>\n",
       "    <tr>\n",
       "      <td>1949</td>\n",
       "      <td>Ted Williams</td>\n",
       "      <td>61</td>\n",
       "    </tr>\n",
       "    <tr>\n",
       "      <td>1946</td>\n",
       "      <td>Eddie Stanky</td>\n",
       "      <td>61</td>\n",
       "    </tr>\n",
       "    <tr>\n",
       "      <td>1949</td>\n",
       "      <td>Eddie Joost</td>\n",
       "      <td>60</td>\n",
       "    </tr>\n",
       "    <tr>\n",
       "      <td>1931</td>\n",
       "      <td>Max Bishop</td>\n",
       "      <td>60</td>\n",
       "    </tr>\n",
       "    <tr>\n",
       "      <td>2007</td>\n",
       "      <td>Barry Bonds</td>\n",
       "      <td>60</td>\n",
       "    </tr>\n",
       "    <tr>\n",
       "      <td>1954</td>\n",
       "      <td>Eddie Yost</td>\n",
       "      <td>59</td>\n",
       "    </tr>\n",
       "    <tr>\n",
       "      <td>1994</td>\n",
       "      <td>Frank Thomas</td>\n",
       "      <td>59</td>\n",
       "    </tr>\n",
       "    <tr>\n",
       "      <td>1921</td>\n",
       "      <td>Babe Ruth</td>\n",
       "      <td>59</td>\n",
       "    </tr>\n",
       "    <tr>\n",
       "      <td>1942</td>\n",
       "      <td>Ted Williams</td>\n",
       "      <td>59</td>\n",
       "    </tr>\n",
       "    <tr>\n",
       "      <td>1927</td>\n",
       "      <td>Babe Ruth</td>\n",
       "      <td>58</td>\n",
       "    </tr>\n",
       "    <tr>\n",
       "      <td>1960</td>\n",
       "      <td>Eddie Yost</td>\n",
       "      <td>58</td>\n",
       "    </tr>\n",
       "  </tbody>\n",
       "</table>\n",
       "</div>"
      ],
      "text/plain": [
       "                         BB\n",
       "season name                \n",
       "2004   Barry Bonds       82\n",
       "1947   Ted Williams      77\n",
       "1923   Babe Ruth         74\n",
       "1929   Max Bishop        71\n",
       "1956   Eddie Yost        70\n",
       "2002   Barry Bonds       70\n",
       "1951   Ted Williams      69\n",
       "1995   Frank Thomas      66\n",
       "1946   Ted Williams      66\n",
       "1982   Rickey Henderson  66\n",
       "1930   Babe Ruth         66\n",
       "1957   Mickey Mantle     65\n",
       "1924   Babe Ruth         65\n",
       "1948   Ted Williams      64\n",
       "1998   Mark McGwire      64\n",
       "2006   Bobby Abreu       63\n",
       "1933   Babe Ruth         62\n",
       "1950   Eddie Stanky      61\n",
       "1970   Frank Howard      61\n",
       "1949   Ted Williams      61\n",
       "1946   Eddie Stanky      61\n",
       "1949   Eddie Joost       60\n",
       "1931   Max Bishop        60\n",
       "2007   Barry Bonds       60\n",
       "1954   Eddie Yost        59\n",
       "1994   Frank Thomas      59\n",
       "1921   Babe Ruth         59\n",
       "1942   Ted Williams      59\n",
       "1927   Babe Ruth         58\n",
       "1960   Eddie Yost        58"
      ]
     },
     "execution_count": 409,
     "metadata": {},
     "output_type": "execute_result"
    }
   ],
   "source": [
    "print('Bryce Harper walked 49 times in 2020.  \\nHere are the top season starts historically:')\n",
    "pd.DataFrame(grouped['BB'].sum().sort_values(ascending=False)[:30])"
   ]
  },
  {
   "cell_type": "code",
   "execution_count": 275,
   "metadata": {},
   "outputs": [
    {
     "data": {
      "image/png": "[encoded data removed]",
      "text/plain": [
       "<Figure size 432x288 with 1 Axes>"
      ]
     },
     "metadata": {
      "needs_background": "light"
     },
     "output_type": "display_data"
    }
   ],
   "source": [
    "plot_2020_vs_historical(grouped, 'BB', 49, 'Bryce Harper', 'Walks', \n",
    "                       'Walks leader through first 60 games of each season')"
   ]
  },
  {
   "cell_type": "markdown",
   "metadata": {},
   "source": [
    "#### Nothing unusual about 49 walks through 60 games, at least in the modern game."
   ]
  },
  {
   "cell_type": "code",
   "execution_count": 410,
   "metadata": {},
   "outputs": [
    {
     "name": "stdout",
     "output_type": "stream",
     "text": [
      "Miguel Sano struck out 90 times in 2020.  \n",
      "Here are the worst season starts historically:\n"
     ]
    },
    {
     "data": {
      "text/html": [
       "<div>\n",
       "<style scoped>\n",
       "    .dataframe tbody tr th:only-of-type {\n",
       "        vertical-align: middle;\n",
       "    }\n",
       "\n",
       "    .dataframe tbody tr th {\n",
       "        vertical-align: top;\n",
       "    }\n",
       "\n",
       "    .dataframe thead th {\n",
       "        text-align: right;\n",
       "    }\n",
       "</style>\n",
       "<table border=\"1\" class=\"dataframe\">\n",
       "  <thead>\n",
       "    <tr style=\"text-align: right;\">\n",
       "      <th></th>\n",
       "      <th></th>\n",
       "      <th>SO</th>\n",
       "    </tr>\n",
       "    <tr>\n",
       "      <th>season</th>\n",
       "      <th>name</th>\n",
       "      <th></th>\n",
       "    </tr>\n",
       "  </thead>\n",
       "  <tbody>\n",
       "    <tr>\n",
       "      <td>2012</td>\n",
       "      <td>Adam Dunn</td>\n",
       "      <td>96</td>\n",
       "    </tr>\n",
       "    <tr>\n",
       "      <td>2017</td>\n",
       "      <td>Chris Davis</td>\n",
       "      <td>94</td>\n",
       "    </tr>\n",
       "    <tr>\n",
       "      <td>2009</td>\n",
       "      <td>Chris Davis</td>\n",
       "      <td>90</td>\n",
       "    </tr>\n",
       "    <tr>\n",
       "      <td>2016</td>\n",
       "      <td>Trevor Story</td>\n",
       "      <td>87</td>\n",
       "    </tr>\n",
       "    <tr>\n",
       "      <td>2018</td>\n",
       "      <td>Aaron Judge</td>\n",
       "      <td>86</td>\n",
       "    </tr>\n",
       "    <tr>\n",
       "      <td>2017</td>\n",
       "      <td>Miguel Sano</td>\n",
       "      <td>86</td>\n",
       "    </tr>\n",
       "    <tr>\n",
       "      <td>2016</td>\n",
       "      <td>Mike Napoli</td>\n",
       "      <td>86</td>\n",
       "    </tr>\n",
       "    <tr>\n",
       "      <td>2013</td>\n",
       "      <td>Chris Carter</td>\n",
       "      <td>85</td>\n",
       "    </tr>\n",
       "    <tr>\n",
       "      <td>2017</td>\n",
       "      <td>Joey Gallo</td>\n",
       "      <td>84</td>\n",
       "    </tr>\n",
       "    <tr>\n",
       "      <td>2009</td>\n",
       "      <td>Mark Reynolds</td>\n",
       "      <td>84</td>\n",
       "    </tr>\n",
       "    <tr>\n",
       "      <td>2018</td>\n",
       "      <td>Joey Gallo</td>\n",
       "      <td>83</td>\n",
       "    </tr>\n",
       "    <tr>\n",
       "      <td>2008</td>\n",
       "      <td>Ryan Howard</td>\n",
       "      <td>82</td>\n",
       "    </tr>\n",
       "    <tr>\n",
       "      <td>2000</td>\n",
       "      <td>Preston Wilson</td>\n",
       "      <td>82</td>\n",
       "    </tr>\n",
       "    <tr>\n",
       "      <td>2015</td>\n",
       "      <td>Giancarlo Stanton</td>\n",
       "      <td>82</td>\n",
       "    </tr>\n",
       "    <tr>\n",
       "      <td>2013</td>\n",
       "      <td>Mike Napoli</td>\n",
       "      <td>81</td>\n",
       "    </tr>\n",
       "    <tr>\n",
       "      <td>2015</td>\n",
       "      <td>Chris Carter</td>\n",
       "      <td>81</td>\n",
       "    </tr>\n",
       "    <tr>\n",
       "      <td rowspan=\"2\" valign=\"top\">2016</td>\n",
       "      <td>Chris Davis</td>\n",
       "      <td>81</td>\n",
       "    </tr>\n",
       "    <tr>\n",
       "      <td>Steven Souza</td>\n",
       "      <td>81</td>\n",
       "    </tr>\n",
       "    <tr>\n",
       "      <td>2018</td>\n",
       "      <td>Giancarlo Stanton</td>\n",
       "      <td>81</td>\n",
       "    </tr>\n",
       "    <tr>\n",
       "      <td>1963</td>\n",
       "      <td>Dave Nicholson</td>\n",
       "      <td>81</td>\n",
       "    </tr>\n",
       "    <tr>\n",
       "      <td>1991</td>\n",
       "      <td>Rob Deer</td>\n",
       "      <td>80</td>\n",
       "    </tr>\n",
       "    <tr>\n",
       "      <td>2010</td>\n",
       "      <td>Mark Reynolds</td>\n",
       "      <td>80</td>\n",
       "    </tr>\n",
       "    <tr>\n",
       "      <td>2015</td>\n",
       "      <td>Steven Souza</td>\n",
       "      <td>80</td>\n",
       "    </tr>\n",
       "    <tr>\n",
       "      <td>1987</td>\n",
       "      <td>Pete Incaviglia</td>\n",
       "      <td>80</td>\n",
       "    </tr>\n",
       "    <tr>\n",
       "      <td>2010</td>\n",
       "      <td>Justin Upton</td>\n",
       "      <td>80</td>\n",
       "    </tr>\n",
       "    <tr>\n",
       "      <td>2018</td>\n",
       "      <td>Yoan Moncada</td>\n",
       "      <td>79</td>\n",
       "    </tr>\n",
       "    <tr>\n",
       "      <td>2003</td>\n",
       "      <td>Jose Hernandez</td>\n",
       "      <td>79</td>\n",
       "    </tr>\n",
       "    <tr>\n",
       "      <td>2016</td>\n",
       "      <td>Chris Carter</td>\n",
       "      <td>79</td>\n",
       "    </tr>\n",
       "    <tr>\n",
       "      <td rowspan=\"2\" valign=\"top\">2019</td>\n",
       "      <td>Javier Baez</td>\n",
       "      <td>79</td>\n",
       "    </tr>\n",
       "    <tr>\n",
       "      <td>Bryce Harper</td>\n",
       "      <td>79</td>\n",
       "    </tr>\n",
       "  </tbody>\n",
       "</table>\n",
       "</div>"
      ],
      "text/plain": [
       "                          SO\n",
       "season name                 \n",
       "2012   Adam Dunn          96\n",
       "2017   Chris Davis        94\n",
       "2009   Chris Davis        90\n",
       "2016   Trevor Story       87\n",
       "2018   Aaron Judge        86\n",
       "2017   Miguel Sano        86\n",
       "2016   Mike Napoli        86\n",
       "2013   Chris Carter       85\n",
       "2017   Joey Gallo         84\n",
       "2009   Mark Reynolds      84\n",
       "2018   Joey Gallo         83\n",
       "2008   Ryan Howard        82\n",
       "2000   Preston Wilson     82\n",
       "2015   Giancarlo Stanton  82\n",
       "2013   Mike Napoli        81\n",
       "2015   Chris Carter       81\n",
       "2016   Chris Davis        81\n",
       "       Steven Souza       81\n",
       "2018   Giancarlo Stanton  81\n",
       "1963   Dave Nicholson     81\n",
       "1991   Rob Deer           80\n",
       "2010   Mark Reynolds      80\n",
       "2015   Steven Souza       80\n",
       "1987   Pete Incaviglia    80\n",
       "2010   Justin Upton       80\n",
       "2018   Yoan Moncada       79\n",
       "2003   Jose Hernandez     79\n",
       "2016   Chris Carter       79\n",
       "2019   Javier Baez        79\n",
       "       Bryce Harper       79"
      ]
     },
     "execution_count": 410,
     "metadata": {},
     "output_type": "execute_result"
    }
   ],
   "source": [
    "print('Miguel Sano struck out 90 times in 2020.  \\nHere are the worst season starts historically:')\n",
    "pd.DataFrame(grouped[\"SO\"].sum().sort_values(ascending=False)[:30])"
   ]
  },
  {
   "cell_type": "code",
   "execution_count": 277,
   "metadata": {},
   "outputs": [
    {
     "data": {
      "image/png": "[encoded data removed]",
      "text/plain": [
       "<Figure size 432x288 with 1 Axes>"
      ]
     },
     "metadata": {
      "needs_background": "light"
     },
     "output_type": "display_data"
    }
   ],
   "source": [
    "plot_2020_vs_historical(grouped, 'SO', 90, 'Miguel Sanó', 'Strikeouts', \n",
    "                       'Strikeout leader through first 60 games of each season')"
   ]
  },
  {
   "cell_type": "markdown",
   "metadata": {},
   "source": [
    "#### Miguel Sanó and his 90 strikeouts through 60 short games are the perfect continuation of a long, steady, upward historical trend.  Sanó actually only played in 53 games, making his staggeringly bad number even worse."
   ]
  },
  {
   "cell_type": "markdown",
   "metadata": {},
   "source": [
    "#### A lot of the cumulative stats shown above may be artificially low due to the unusually high number of 7-inning doubleheader games played in 2020, as well as the new rules making extra innings more scarce.   We could check Plate Appearance totals to see if 2020 is in fact lower."
   ]
  },
  {
   "cell_type": "code",
   "execution_count": 411,
   "metadata": {},
   "outputs": [
    {
     "name": "stdout",
     "output_type": "stream",
     "text": [
      "Marcell Ozuna led MLB with 267 Plate Appearances in 2020.  \n",
      "Here are the highest season starts historically:\n"
     ]
    },
    {
     "data": {
      "text/html": [
       "<div>\n",
       "<style scoped>\n",
       "    .dataframe tbody tr th:only-of-type {\n",
       "        vertical-align: middle;\n",
       "    }\n",
       "\n",
       "    .dataframe tbody tr th {\n",
       "        vertical-align: top;\n",
       "    }\n",
       "\n",
       "    .dataframe thead th {\n",
       "        text-align: right;\n",
       "    }\n",
       "</style>\n",
       "<table border=\"1\" class=\"dataframe\">\n",
       "  <thead>\n",
       "    <tr style=\"text-align: right;\">\n",
       "      <th></th>\n",
       "      <th></th>\n",
       "      <th>PA</th>\n",
       "    </tr>\n",
       "    <tr>\n",
       "      <th>season</th>\n",
       "      <th>name</th>\n",
       "      <th></th>\n",
       "    </tr>\n",
       "  </thead>\n",
       "  <tbody>\n",
       "    <tr>\n",
       "      <td>1931</td>\n",
       "      <td>Earle Combs</td>\n",
       "      <td>300</td>\n",
       "    </tr>\n",
       "    <tr>\n",
       "      <td>1926</td>\n",
       "      <td>Mark Koenig</td>\n",
       "      <td>299</td>\n",
       "    </tr>\n",
       "    <tr>\n",
       "      <td>1929</td>\n",
       "      <td>Max Bishop</td>\n",
       "      <td>299</td>\n",
       "    </tr>\n",
       "    <tr>\n",
       "      <td>1936</td>\n",
       "      <td>Red Rolfe</td>\n",
       "      <td>298</td>\n",
       "    </tr>\n",
       "    <tr>\n",
       "      <td>1941</td>\n",
       "      <td>Dom DiMaggio</td>\n",
       "      <td>298</td>\n",
       "    </tr>\n",
       "    <tr>\n",
       "      <td>1957</td>\n",
       "      <td>Red Schoendienst</td>\n",
       "      <td>298</td>\n",
       "    </tr>\n",
       "    <tr>\n",
       "      <td>2003</td>\n",
       "      <td>Alfonso Soriano</td>\n",
       "      <td>296</td>\n",
       "    </tr>\n",
       "    <tr>\n",
       "      <td>1921</td>\n",
       "      <td>Jack Tobin</td>\n",
       "      <td>296</td>\n",
       "    </tr>\n",
       "    <tr>\n",
       "      <td>1939</td>\n",
       "      <td>Frankie Crosetti</td>\n",
       "      <td>296</td>\n",
       "    </tr>\n",
       "    <tr>\n",
       "      <td>1956</td>\n",
       "      <td>Dave Philley</td>\n",
       "      <td>296</td>\n",
       "    </tr>\n",
       "    <tr>\n",
       "      <td>1925</td>\n",
       "      <td>Max Carey</td>\n",
       "      <td>296</td>\n",
       "    </tr>\n",
       "    <tr>\n",
       "      <td>1938</td>\n",
       "      <td>Buddy Lewis</td>\n",
       "      <td>296</td>\n",
       "    </tr>\n",
       "    <tr>\n",
       "      <td>1939</td>\n",
       "      <td>George Case</td>\n",
       "      <td>296</td>\n",
       "    </tr>\n",
       "    <tr>\n",
       "      <td>1930</td>\n",
       "      <td>Johnny Frederick</td>\n",
       "      <td>295</td>\n",
       "    </tr>\n",
       "    <tr>\n",
       "      <td>1955</td>\n",
       "      <td>Al Smith</td>\n",
       "      <td>295</td>\n",
       "    </tr>\n",
       "    <tr>\n",
       "      <td>1929</td>\n",
       "      <td>Fresco Thompson</td>\n",
       "      <td>295</td>\n",
       "    </tr>\n",
       "    <tr>\n",
       "      <td>1934</td>\n",
       "      <td>Billy Urbanski</td>\n",
       "      <td>294</td>\n",
       "    </tr>\n",
       "    <tr>\n",
       "      <td>1950</td>\n",
       "      <td>Johnny Lipon</td>\n",
       "      <td>294</td>\n",
       "    </tr>\n",
       "    <tr>\n",
       "      <td>1936</td>\n",
       "      <td>Lyn Lary</td>\n",
       "      <td>293</td>\n",
       "    </tr>\n",
       "    <tr>\n",
       "      <td>1929</td>\n",
       "      <td>Freddie Lindstrom</td>\n",
       "      <td>293</td>\n",
       "    </tr>\n",
       "    <tr>\n",
       "      <td>1939</td>\n",
       "      <td>Doc Cramer</td>\n",
       "      <td>293</td>\n",
       "    </tr>\n",
       "    <tr>\n",
       "      <td>1930</td>\n",
       "      <td>Taylor Douthit</td>\n",
       "      <td>293</td>\n",
       "    </tr>\n",
       "    <tr>\n",
       "      <td>1993</td>\n",
       "      <td>Lenny Dykstra</td>\n",
       "      <td>292</td>\n",
       "    </tr>\n",
       "    <tr>\n",
       "      <td>1929</td>\n",
       "      <td>Lloyd Waner</td>\n",
       "      <td>292</td>\n",
       "    </tr>\n",
       "    <tr>\n",
       "      <td>1948</td>\n",
       "      <td>Dom DiMaggio</td>\n",
       "      <td>292</td>\n",
       "    </tr>\n",
       "    <tr>\n",
       "      <td>1945</td>\n",
       "      <td>Tommy Holmes</td>\n",
       "      <td>292</td>\n",
       "    </tr>\n",
       "    <tr>\n",
       "      <td>1936</td>\n",
       "      <td>Billy Urbanski</td>\n",
       "      <td>292</td>\n",
       "    </tr>\n",
       "    <tr>\n",
       "      <td>1927</td>\n",
       "      <td>Earle Combs</td>\n",
       "      <td>292</td>\n",
       "    </tr>\n",
       "    <tr>\n",
       "      <td>1939</td>\n",
       "      <td>Red Rolfe</td>\n",
       "      <td>291</td>\n",
       "    </tr>\n",
       "    <tr>\n",
       "      <td>1935</td>\n",
       "      <td>Augie Galan</td>\n",
       "      <td>291</td>\n",
       "    </tr>\n",
       "  </tbody>\n",
       "</table>\n",
       "</div>"
      ],
      "text/plain": [
       "                           PA\n",
       "season name                  \n",
       "1931   Earle Combs        300\n",
       "1926   Mark Koenig        299\n",
       "1929   Max Bishop         299\n",
       "1936   Red Rolfe          298\n",
       "1941   Dom DiMaggio       298\n",
       "1957   Red Schoendienst   298\n",
       "2003   Alfonso Soriano    296\n",
       "1921   Jack Tobin         296\n",
       "1939   Frankie Crosetti   296\n",
       "1956   Dave Philley       296\n",
       "1925   Max Carey          296\n",
       "1938   Buddy Lewis        296\n",
       "1939   George Case        296\n",
       "1930   Johnny Frederick   295\n",
       "1955   Al Smith           295\n",
       "1929   Fresco Thompson    295\n",
       "1934   Billy Urbanski     294\n",
       "1950   Johnny Lipon       294\n",
       "1936   Lyn Lary           293\n",
       "1929   Freddie Lindstrom  293\n",
       "1939   Doc Cramer         293\n",
       "1930   Taylor Douthit     293\n",
       "1993   Lenny Dykstra      292\n",
       "1929   Lloyd Waner        292\n",
       "1948   Dom DiMaggio       292\n",
       "1945   Tommy Holmes       292\n",
       "1936   Billy Urbanski     292\n",
       "1927   Earle Combs        292\n",
       "1939   Red Rolfe          291\n",
       "1935   Augie Galan        291"
      ]
     },
     "execution_count": 411,
     "metadata": {},
     "output_type": "execute_result"
    }
   ],
   "source": [
    "print('Marcell Ozuna led MLB with 267 Plate Appearances in 2020.  \\nHere are the highest season starts historically:')\n",
    "pd.DataFrame(grouped.PA.sum().sort_values(ascending=False)[:30])"
   ]
  },
  {
   "cell_type": "code",
   "execution_count": 289,
   "metadata": {},
   "outputs": [
    {
     "data": {
      "image/png": "[encoded data removed]",
      "text/plain": [
       "<Figure size 432x288 with 1 Axes>"
      ]
     },
     "metadata": {
      "needs_background": "light"
     },
     "output_type": "display_data"
    }
   ],
   "source": [
    "plot_2020_vs_historical(grouped, 'PA', 267, 'Marcell Ozuna', 'Plate Appearances', \n",
    "                       'Most Plate Appearances in First 60 Games of Season')"
   ]
  },
  {
   "cell_type": "markdown",
   "metadata": {},
   "source": [
    "#### That shows a century-long, historical trend downwards, but 2020 definitely is distorted by COV-19 rule changes.  Cumulative stats like the ones shown in previous tables would all be something like 4% higher if rules hadn't changed."
   ]
  },
  {
   "cell_type": "markdown",
   "metadata": {},
   "source": [
    "For rate stats, like batting avg, the standard lower threshold to qualify for the leaderboard is 3.1 Plate Appearances per game, so 186 in 60 games."
   ]
  },
  {
   "cell_type": "code",
   "execution_count": 290,
   "metadata": {},
   "outputs": [],
   "source": [
    "minPA = grouped.filter(lambda x: x.PA.sum() > 185).groupby(['season','name'])"
   ]
  },
  {
   "cell_type": "code",
   "execution_count": 417,
   "metadata": {},
   "outputs": [
    {
     "name": "stdout",
     "output_type": "stream",
     "text": [
      "DJ LeMahieu hit .364 in 2020.  \n",
      "Here are the top season starts historically:\n"
     ]
    },
    {
     "data": {
      "text/html": [
       "<div>\n",
       "<style scoped>\n",
       "    .dataframe tbody tr th:only-of-type {\n",
       "        vertical-align: middle;\n",
       "    }\n",
       "\n",
       "    .dataframe tbody tr th {\n",
       "        vertical-align: top;\n",
       "    }\n",
       "\n",
       "    .dataframe thead th {\n",
       "        text-align: right;\n",
       "    }\n",
       "</style>\n",
       "<table border=\"1\" class=\"dataframe\">\n",
       "  <thead>\n",
       "    <tr style=\"text-align: right;\">\n",
       "      <th></th>\n",
       "      <th></th>\n",
       "      <th>BA</th>\n",
       "    </tr>\n",
       "    <tr>\n",
       "      <th>season</th>\n",
       "      <th>name</th>\n",
       "      <th></th>\n",
       "    </tr>\n",
       "  </thead>\n",
       "  <tbody>\n",
       "    <tr>\n",
       "      <td>1922</td>\n",
       "      <td>George Sisler</td>\n",
       "      <td>0.443</td>\n",
       "    </tr>\n",
       "    <tr>\n",
       "      <td>1920</td>\n",
       "      <td>George Sisler</td>\n",
       "      <td>0.430</td>\n",
       "    </tr>\n",
       "    <tr>\n",
       "      <td>1925</td>\n",
       "      <td>Rogers Hornsby</td>\n",
       "      <td>0.429</td>\n",
       "    </tr>\n",
       "    <tr>\n",
       "      <td>1923</td>\n",
       "      <td>Harry Heilmann</td>\n",
       "      <td>0.426</td>\n",
       "    </tr>\n",
       "    <tr>\n",
       "      <td>1921</td>\n",
       "      <td>Harry Heilmann</td>\n",
       "      <td>0.425</td>\n",
       "    </tr>\n",
       "    <tr>\n",
       "      <td>1925</td>\n",
       "      <td>Ty Cobb</td>\n",
       "      <td>0.418</td>\n",
       "    </tr>\n",
       "    <tr>\n",
       "      <td>1994</td>\n",
       "      <td>Paul O'Neill</td>\n",
       "      <td>0.417</td>\n",
       "    </tr>\n",
       "    <tr>\n",
       "      <td>1997</td>\n",
       "      <td>Larry Walker</td>\n",
       "      <td>0.417</td>\n",
       "    </tr>\n",
       "    <tr>\n",
       "      <td>1934</td>\n",
       "      <td>Heinie Manush</td>\n",
       "      <td>0.416</td>\n",
       "    </tr>\n",
       "    <tr>\n",
       "      <td>1921</td>\n",
       "      <td>Rogers Hornsby</td>\n",
       "      <td>0.415</td>\n",
       "    </tr>\n",
       "    <tr>\n",
       "      <td>1948</td>\n",
       "      <td>Ted Williams</td>\n",
       "      <td>0.412</td>\n",
       "    </tr>\n",
       "    <tr>\n",
       "      <td>1983</td>\n",
       "      <td>Rod Carew</td>\n",
       "      <td>0.411</td>\n",
       "    </tr>\n",
       "    <tr>\n",
       "      <td>1930</td>\n",
       "      <td>Lefty O'Doul</td>\n",
       "      <td>0.409</td>\n",
       "    </tr>\n",
       "    <tr>\n",
       "      <td>2008</td>\n",
       "      <td>Chipper Jones</td>\n",
       "      <td>0.409</td>\n",
       "    </tr>\n",
       "    <tr>\n",
       "      <td>1934</td>\n",
       "      <td>Charlie Gehringer</td>\n",
       "      <td>0.408</td>\n",
       "    </tr>\n",
       "    <tr>\n",
       "      <td>1922</td>\n",
       "      <td>Rogers Hornsby</td>\n",
       "      <td>0.408</td>\n",
       "    </tr>\n",
       "    <tr>\n",
       "      <td>1941</td>\n",
       "      <td>Ted Williams</td>\n",
       "      <td>0.407</td>\n",
       "    </tr>\n",
       "    <tr>\n",
       "      <td>1937</td>\n",
       "      <td>Joe Medwick</td>\n",
       "      <td>0.406</td>\n",
       "    </tr>\n",
       "    <tr>\n",
       "      <td>1921</td>\n",
       "      <td>Tris Speaker</td>\n",
       "      <td>0.406</td>\n",
       "    </tr>\n",
       "    <tr>\n",
       "      <td rowspan=\"2\" valign=\"top\">1930</td>\n",
       "      <td>Chuck Klein</td>\n",
       "      <td>0.406</td>\n",
       "    </tr>\n",
       "    <tr>\n",
       "      <td>Paul Waner</td>\n",
       "      <td>0.405</td>\n",
       "    </tr>\n",
       "    <tr>\n",
       "      <td>1997</td>\n",
       "      <td>Tony Gwynn</td>\n",
       "      <td>0.403</td>\n",
       "    </tr>\n",
       "    <tr>\n",
       "      <td>1929</td>\n",
       "      <td>Jimmie Foxx</td>\n",
       "      <td>0.403</td>\n",
       "    </tr>\n",
       "    <tr>\n",
       "      <td>1959</td>\n",
       "      <td>Hank Aaron</td>\n",
       "      <td>0.402</td>\n",
       "    </tr>\n",
       "    <tr>\n",
       "      <td>1928</td>\n",
       "      <td>Rogers Hornsby</td>\n",
       "      <td>0.402</td>\n",
       "    </tr>\n",
       "    <tr>\n",
       "      <td>1935</td>\n",
       "      <td>Arky Vaughan</td>\n",
       "      <td>0.400</td>\n",
       "    </tr>\n",
       "    <tr>\n",
       "      <td>1948</td>\n",
       "      <td>Stan Musial</td>\n",
       "      <td>0.399</td>\n",
       "    </tr>\n",
       "    <tr>\n",
       "      <td>1931</td>\n",
       "      <td>Babe Ruth</td>\n",
       "      <td>0.399</td>\n",
       "    </tr>\n",
       "    <tr>\n",
       "      <td>1930</td>\n",
       "      <td>Bill Terry</td>\n",
       "      <td>0.398</td>\n",
       "    </tr>\n",
       "    <tr>\n",
       "      <td>1974</td>\n",
       "      <td>Rod Carew</td>\n",
       "      <td>0.398</td>\n",
       "    </tr>\n",
       "  </tbody>\n",
       "</table>\n",
       "</div>"
      ],
      "text/plain": [
       "                             BA\n",
       "season name                    \n",
       "1922   George Sisler      0.443\n",
       "1920   George Sisler      0.430\n",
       "1925   Rogers Hornsby     0.429\n",
       "1923   Harry Heilmann     0.426\n",
       "1921   Harry Heilmann     0.425\n",
       "1925   Ty Cobb            0.418\n",
       "1994   Paul O'Neill       0.417\n",
       "1997   Larry Walker       0.417\n",
       "1934   Heinie Manush      0.416\n",
       "1921   Rogers Hornsby     0.415\n",
       "1948   Ted Williams       0.412\n",
       "1983   Rod Carew          0.411\n",
       "1930   Lefty O'Doul       0.409\n",
       "2008   Chipper Jones      0.409\n",
       "1934   Charlie Gehringer  0.408\n",
       "1922   Rogers Hornsby     0.408\n",
       "1941   Ted Williams       0.407\n",
       "1937   Joe Medwick        0.406\n",
       "1921   Tris Speaker       0.406\n",
       "1930   Chuck Klein        0.406\n",
       "       Paul Waner         0.405\n",
       "1997   Tony Gwynn         0.403\n",
       "1929   Jimmie Foxx        0.403\n",
       "1959   Hank Aaron         0.402\n",
       "1928   Rogers Hornsby     0.402\n",
       "1935   Arky Vaughan       0.400\n",
       "1948   Stan Musial        0.399\n",
       "1931   Babe Ruth          0.399\n",
       "1930   Bill Terry         0.398\n",
       "1974   Rod Carew          0.398"
      ]
     },
     "execution_count": 417,
     "metadata": {},
     "output_type": "execute_result"
    }
   ],
   "source": [
    "print('DJ LeMahieu hit .364 in 2020.  \\nHere are the top season starts historically:')\n",
    "(round((minPA.H.sum() / minPA.AB.sum()), 3).sort_values(ascending=False)).head(30).to_frame(name='BA')"
   ]
  },
  {
   "cell_type": "code",
   "execution_count": 322,
   "metadata": {},
   "outputs": [],
   "source": [
    "# This function will first plot 2020's stat leaders vs the leaders in the last 100 years.\n",
    "# Then it will plot 2020's leader vs. the rest of 2020 MLB, and show how that ratio compares to past years.\n",
    "def plot_2020_vs_hist_with_ratios(group_calc, mlb_calc, stat_2020, mlb_2020,\n",
    "                                  leader_2020, ylab_1, ylab_2,\n",
    "                                  title, text=None):\n",
    "    plt.scatter(range(1920, 2020), group_calc, facecolors='none',\n",
    "                edgecolors='k', label='League Leader' )\n",
    "    plt.axhline(stat_2020, c='y', label=leader_2020 + ' 2020')\n",
    "    plt.ylabel(ylab_1)\n",
    "    plt.xlabel('season')\n",
    "    plt.legend()\n",
    "    plt.grid(alpha=0.5)\n",
    "    plt.title(title);\n",
    "\n",
    "    plt.figure()\n",
    "    plt.scatter(range(1920, 2020), group_calc / mlb_calc,\n",
    "                facecolors='none', edgecolors='k')\n",
    "    plt.scatter(2020, stat_2020 / mlb_2020, color='y')\n",
    "    plt.ylabel(ylab_2)\n",
    "    plt.grid(alpha=0.5)\n",
    "    if text:\n",
    "        for t in text:\n",
    "            plt.text(t['x'], t['y'], t['s'], fontsize=t['fontsize'])\n",
    "    plt.title('Ratio of League Leader to Rest of League');"
   ]
  },
  {
   "cell_type": "markdown",
   "metadata": {},
   "source": [
    "Take a look at Batting Average first:"
   ]
  },
  {
   "cell_type": "code",
   "execution_count": 323,
   "metadata": {},
   "outputs": [
    {
     "data": {
      "image/png": "[encoded data removed]",
      "text/plain": [
       "<Figure size 432x288 with 1 Axes>"
      ]
     },
     "metadata": {
      "needs_background": "light"
     },
     "output_type": "display_data"
    },
    {
     "data": {
      "image/png": "[encoded data removed]",
      "text/plain": [
       "<Figure size 432x288 with 1 Axes>"
      ]
     },
     "metadata": {
      "needs_background": "light"
     },
     "output_type": "display_data"
    }
   ],
   "source": [
    "ba_leaders = round((minPA.H.sum() / minPA.AB.sum()), 3).groupby('season').max()\n",
    "# 2020 MLB BA was .245\n",
    "plot_2020_vs_hist_with_ratios(ba_leaders, ba60, 0.364, 0.245, 'DJ LeMahieu', 'Batting Avg.',\n",
    "                             'Leading BA / League BA (first 60 games)',\n",
    "                             'Best Batting Avg through first 60 games of each season',\n",
    "                             text=[{'x': 1957, 'y': 1.568, 's': 'Rod Carew -----', 'fontsize': 10}])"
   ]
  },
  {
   "cell_type": "markdown",
   "metadata": {},
   "source": [
    "#### DJ LeMahieu's .364 average was right in the middle of the historical trend, although when compared to the rest of the league in 2020, it's a more impressive number."
   ]
  },
  {
   "cell_type": "markdown",
   "metadata": {},
   "source": [
    "=========== Quick detour to make some frames for external visualization tools ================="
   ]
  },
  {
   "cell_type": "code",
   "execution_count": 574,
   "metadata": {},
   "outputs": [
    {
     "data": {
      "text/html": [
       "<div>\n",
       "<style scoped>\n",
       "    .dataframe tbody tr th:only-of-type {\n",
       "        vertical-align: middle;\n",
       "    }\n",
       "\n",
       "    .dataframe tbody tr th {\n",
       "        vertical-align: top;\n",
       "    }\n",
       "\n",
       "    .dataframe thead th {\n",
       "        text-align: right;\n",
       "    }\n",
       "</style>\n",
       "<table border=\"1\" class=\"dataframe\">\n",
       "  <thead>\n",
       "    <tr style=\"text-align: right;\">\n",
       "      <th></th>\n",
       "      <th></th>\n",
       "      <th>BA</th>\n",
       "      <th>league</th>\n",
       "      <th>ratio</th>\n",
       "    </tr>\n",
       "    <tr>\n",
       "      <th>season</th>\n",
       "      <th>name</th>\n",
       "      <th></th>\n",
       "      <th></th>\n",
       "      <th></th>\n",
       "    </tr>\n",
       "  </thead>\n",
       "  <tbody>\n",
       "    <tr>\n",
       "      <td>1920</td>\n",
       "      <td>George Sisler</td>\n",
       "      <td>0.430</td>\n",
       "      <td>0.280</td>\n",
       "      <td>1.536</td>\n",
       "    </tr>\n",
       "    <tr>\n",
       "      <td>1921</td>\n",
       "      <td>Harry Heilmann</td>\n",
       "      <td>0.425</td>\n",
       "      <td>0.301</td>\n",
       "      <td>1.415</td>\n",
       "    </tr>\n",
       "    <tr>\n",
       "      <td>1922</td>\n",
       "      <td>George Sisler</td>\n",
       "      <td>0.443</td>\n",
       "      <td>0.293</td>\n",
       "      <td>1.514</td>\n",
       "    </tr>\n",
       "    <tr>\n",
       "      <td>1923</td>\n",
       "      <td>Harry Heilmann</td>\n",
       "      <td>0.426</td>\n",
       "      <td>0.288</td>\n",
       "      <td>1.480</td>\n",
       "    </tr>\n",
       "    <tr>\n",
       "      <td>1924</td>\n",
       "      <td>Rogers Hornsby</td>\n",
       "      <td>0.389</td>\n",
       "      <td>0.289</td>\n",
       "      <td>1.347</td>\n",
       "    </tr>\n",
       "  </tbody>\n",
       "</table>\n",
       "</div>"
      ],
      "text/plain": [
       "                          BA  league  ratio\n",
       "season name                                \n",
       "1920   George Sisler   0.430   0.280  1.536\n",
       "1921   Harry Heilmann  0.425   0.301  1.415\n",
       "1922   George Sisler   0.443   0.293  1.514\n",
       "1923   Harry Heilmann  0.426   0.288  1.480\n",
       "1924   Rogers Hornsby  0.389   0.289  1.347"
      ]
     },
     "execution_count": 574,
     "metadata": {},
     "output_type": "execute_result"
    }
   ],
   "source": [
    "bas = minPA.H.sum() / minPA.AB.sum()\n",
    "bas = bas[bas.groupby('season').transform(lambda x: x == x.max())].to_frame(name='BA')\n",
    "bas['league'] = ba60.values\n",
    "bas['ratio'] = bas.BA / bas.league\n",
    "bas = bas.round(3)\n",
    "bas.head()"
   ]
  },
  {
   "cell_type": "code",
   "execution_count": 576,
   "metadata": {},
   "outputs": [
    {
     "data": {
      "text/html": [
       "<div>\n",
       "<style scoped>\n",
       "    .dataframe tbody tr th:only-of-type {\n",
       "        vertical-align: middle;\n",
       "    }\n",
       "\n",
       "    .dataframe tbody tr th {\n",
       "        vertical-align: top;\n",
       "    }\n",
       "\n",
       "    .dataframe thead th {\n",
       "        text-align: right;\n",
       "    }\n",
       "</style>\n",
       "<table border=\"1\" class=\"dataframe\">\n",
       "  <thead>\n",
       "    <tr style=\"text-align: right;\">\n",
       "      <th></th>\n",
       "      <th></th>\n",
       "      <th>OBP</th>\n",
       "      <th>league</th>\n",
       "      <th>ratio</th>\n",
       "    </tr>\n",
       "    <tr>\n",
       "      <th>season</th>\n",
       "      <th>name</th>\n",
       "      <th></th>\n",
       "      <th></th>\n",
       "      <th></th>\n",
       "    </tr>\n",
       "  </thead>\n",
       "  <tbody>\n",
       "    <tr>\n",
       "      <td>1920</td>\n",
       "      <td>Tris Speaker</td>\n",
       "      <td>0.496</td>\n",
       "      <td>0.345</td>\n",
       "      <td>1.440</td>\n",
       "    </tr>\n",
       "    <tr>\n",
       "      <td>1921</td>\n",
       "      <td>Babe Ruth</td>\n",
       "      <td>0.511</td>\n",
       "      <td>0.360</td>\n",
       "      <td>1.419</td>\n",
       "    </tr>\n",
       "    <tr>\n",
       "      <td>1922</td>\n",
       "      <td>George Sisler</td>\n",
       "      <td>0.502</td>\n",
       "      <td>0.359</td>\n",
       "      <td>1.400</td>\n",
       "    </tr>\n",
       "    <tr>\n",
       "      <td>1923</td>\n",
       "      <td>Babe Ruth</td>\n",
       "      <td>0.529</td>\n",
       "      <td>0.356</td>\n",
       "      <td>1.485</td>\n",
       "    </tr>\n",
       "    <tr>\n",
       "      <td>1924</td>\n",
       "      <td>Babe Ruth</td>\n",
       "      <td>0.519</td>\n",
       "      <td>0.354</td>\n",
       "      <td>1.468</td>\n",
       "    </tr>\n",
       "  </tbody>\n",
       "</table>\n",
       "</div>"
      ],
      "text/plain": [
       "                        OBP  league  ratio\n",
       "season name                               \n",
       "1920   Tris Speaker   0.496   0.345  1.440\n",
       "1921   Babe Ruth      0.511   0.360  1.419\n",
       "1922   George Sisler  0.502   0.359  1.400\n",
       "1923   Babe Ruth      0.529   0.356  1.485\n",
       "1924   Babe Ruth      0.519   0.354  1.468"
      ]
     },
     "execution_count": 576,
     "metadata": {},
     "output_type": "execute_result"
    }
   ],
   "source": [
    "obps = (minPA.H.sum() + minPA.BB.sum() + minPA.HBP.sum()) / \\\n",
    "                (minPA.AB.sum() + minPA.BB.sum() + \\\n",
    "                 minPA.HBP.sum() + minPA.SF.sum())\n",
    "obps = obps[obps.groupby('season').transform(lambda x: x == x.max())].to_frame(name='OBP')\n",
    "obps['league'] = obp60.values\n",
    "obps['ratio'] = obps.OBP / obps.league\n",
    "obps = obps.round(3)\n",
    "obps.head()"
   ]
  },
  {
   "cell_type": "code",
   "execution_count": 577,
   "metadata": {},
   "outputs": [
    {
     "data": {
      "text/html": [
       "<div>\n",
       "<style scoped>\n",
       "    .dataframe tbody tr th:only-of-type {\n",
       "        vertical-align: middle;\n",
       "    }\n",
       "\n",
       "    .dataframe tbody tr th {\n",
       "        vertical-align: top;\n",
       "    }\n",
       "\n",
       "    .dataframe thead th {\n",
       "        text-align: right;\n",
       "    }\n",
       "</style>\n",
       "<table border=\"1\" class=\"dataframe\">\n",
       "  <thead>\n",
       "    <tr style=\"text-align: right;\">\n",
       "      <th></th>\n",
       "      <th></th>\n",
       "      <th>SLG</th>\n",
       "      <th>league</th>\n",
       "      <th>ratio</th>\n",
       "    </tr>\n",
       "    <tr>\n",
       "      <th>season</th>\n",
       "      <th>name</th>\n",
       "      <th></th>\n",
       "      <th></th>\n",
       "      <th></th>\n",
       "    </tr>\n",
       "  </thead>\n",
       "  <tbody>\n",
       "    <tr>\n",
       "      <td>1920</td>\n",
       "      <td>Babe Ruth</td>\n",
       "      <td>0.772</td>\n",
       "      <td>0.378</td>\n",
       "      <td>2.043</td>\n",
       "    </tr>\n",
       "    <tr>\n",
       "      <td>1921</td>\n",
       "      <td>Babe Ruth</td>\n",
       "      <td>0.868</td>\n",
       "      <td>0.425</td>\n",
       "      <td>2.042</td>\n",
       "    </tr>\n",
       "    <tr>\n",
       "      <td>1922</td>\n",
       "      <td>Rogers Hornsby</td>\n",
       "      <td>0.702</td>\n",
       "      <td>0.414</td>\n",
       "      <td>1.697</td>\n",
       "    </tr>\n",
       "    <tr>\n",
       "      <td>1923</td>\n",
       "      <td>Cy Williams</td>\n",
       "      <td>0.715</td>\n",
       "      <td>0.404</td>\n",
       "      <td>1.769</td>\n",
       "    </tr>\n",
       "    <tr>\n",
       "      <td>1924</td>\n",
       "      <td>Babe Ruth</td>\n",
       "      <td>0.727</td>\n",
       "      <td>0.400</td>\n",
       "      <td>1.815</td>\n",
       "    </tr>\n",
       "  </tbody>\n",
       "</table>\n",
       "</div>"
      ],
      "text/plain": [
       "                         SLG  league  ratio\n",
       "season name                                \n",
       "1920   Babe Ruth       0.772   0.378  2.043\n",
       "1921   Babe Ruth       0.868   0.425  2.042\n",
       "1922   Rogers Hornsby  0.702   0.414  1.697\n",
       "1923   Cy Williams     0.715   0.404  1.769\n",
       "1924   Babe Ruth       0.727   0.400  1.815"
      ]
     },
     "execution_count": 577,
     "metadata": {},
     "output_type": "execute_result"
    }
   ],
   "source": [
    "slgs = (minPA.H.sum() + minPA['2B'].sum() + 2 * minPA['3B'].sum() + \\\n",
    "           3 * minPA.HR.sum()) / minPA.AB.sum()\n",
    "slgs = slgs[slgs.groupby('season').transform(lambda x: x == x.max())].to_frame(name='SLG')\n",
    "slgs['league'] = slg60.values\n",
    "slgs['ratio'] = slgs.SLG / slgs.league\n",
    "slgs = slgs.round(3)\n",
    "slgs.head()"
   ]
  },
  {
   "cell_type": "code",
   "execution_count": 581,
   "metadata": {},
   "outputs": [
    {
     "data": {
      "text/html": [
       "<div>\n",
       "<style scoped>\n",
       "    .dataframe tbody tr th:only-of-type {\n",
       "        vertical-align: middle;\n",
       "    }\n",
       "\n",
       "    .dataframe tbody tr th {\n",
       "        vertical-align: top;\n",
       "    }\n",
       "\n",
       "    .dataframe thead th {\n",
       "        text-align: right;\n",
       "    }\n",
       "</style>\n",
       "<table border=\"1\" class=\"dataframe\">\n",
       "  <thead>\n",
       "    <tr style=\"text-align: right;\">\n",
       "      <th></th>\n",
       "      <th></th>\n",
       "      <th>OPS</th>\n",
       "      <th>league</th>\n",
       "      <th>ratio</th>\n",
       "    </tr>\n",
       "    <tr>\n",
       "      <th>season</th>\n",
       "      <th>name</th>\n",
       "      <th></th>\n",
       "      <th></th>\n",
       "      <th></th>\n",
       "    </tr>\n",
       "  </thead>\n",
       "  <tbody>\n",
       "    <tr>\n",
       "      <td>1920</td>\n",
       "      <td>Babe Ruth</td>\n",
       "      <td>1.250</td>\n",
       "      <td>0.723</td>\n",
       "      <td>1.730</td>\n",
       "    </tr>\n",
       "    <tr>\n",
       "      <td>1921</td>\n",
       "      <td>Babe Ruth</td>\n",
       "      <td>1.379</td>\n",
       "      <td>0.785</td>\n",
       "      <td>1.756</td>\n",
       "    </tr>\n",
       "    <tr>\n",
       "      <td>1922</td>\n",
       "      <td>Rogers Hornsby</td>\n",
       "      <td>1.186</td>\n",
       "      <td>0.772</td>\n",
       "      <td>1.537</td>\n",
       "    </tr>\n",
       "    <tr>\n",
       "      <td>1923</td>\n",
       "      <td>Babe Ruth</td>\n",
       "      <td>1.207</td>\n",
       "      <td>0.760</td>\n",
       "      <td>1.588</td>\n",
       "    </tr>\n",
       "    <tr>\n",
       "      <td>1924</td>\n",
       "      <td>Babe Ruth</td>\n",
       "      <td>1.246</td>\n",
       "      <td>0.754</td>\n",
       "      <td>1.652</td>\n",
       "    </tr>\n",
       "  </tbody>\n",
       "</table>\n",
       "</div>"
      ],
      "text/plain": [
       "                         OPS  league  ratio\n",
       "season name                                \n",
       "1920   Babe Ruth       1.250   0.723  1.730\n",
       "1921   Babe Ruth       1.379   0.785  1.756\n",
       "1922   Rogers Hornsby  1.186   0.772  1.537\n",
       "1923   Babe Ruth       1.207   0.760  1.588\n",
       "1924   Babe Ruth       1.246   0.754  1.652"
      ]
     },
     "execution_count": 581,
     "metadata": {},
     "output_type": "execute_result"
    }
   ],
   "source": [
    "opses = (minPA.H.sum() + minPA.BB.sum() + minPA.HBP.sum()) / \\\n",
    "                (minPA.AB.sum() + minPA.BB.sum() + \\\n",
    "                 minPA.HBP.sum() + minPA.SF.sum()) + \\\n",
    "                ((minPA.H.sum() + minPA['2B'].sum() + \\\n",
    "                 2 * minPA['3B'].sum() + 3 * minPA.HR.sum()) / \\\n",
    "                minPA.AB.sum())\n",
    "opses = opses[opses.groupby('season').transform(lambda x: x == x.max())].to_frame(name='OPS')\n",
    "opses['league'] = ops60.values\n",
    "opses['ratio'] = opses.OPS / opses.league\n",
    "opses = opses.round(3)\n",
    "opses.head()"
   ]
  },
  {
   "cell_type": "code",
   "execution_count": 582,
   "metadata": {},
   "outputs": [],
   "source": [
    "bas.to_csv('MLB_chartstats/ba_leaders.csv')\n",
    "obps.to_csv('MLB_chartstats/obp_leaders.csv')\n",
    "slgs.to_csv('MLB_chartstats/slg_leaders.csv')\n",
    "opses.to_csv('MLB_chartstats/ops_leaders.csv')"
   ]
  },
  {
   "cell_type": "code",
   "execution_count": 583,
   "metadata": {},
   "outputs": [
    {
     "name": "stdout",
     "output_type": "stream",
     "text": [
      "ba_leaders.csv   leaders60BB.csv  leadersBA.csv    leadersSO.csv\r\n",
      "leaders2020.csv  leaders60H.csv   leadersBB.csv    leaguewide_avgs\r\n",
      "leaders2B.csv    leaders60HR.csv  leadersH.csv     obp_leaders.csv\r\n",
      "leaders3B.csv    leaders60PA.csv  leadersHR.csv    ops_leaders.csv\r\n",
      "leaders602B.csv  leaders60R.csv   leadersPA.csv    slg_leaders.csv\r\n",
      "leaders603B.csv  leaders60RBI.csv leadersR.csv\r\n",
      "leaders60BA.csv  leaders60SO.csv  leadersRBI.csv\r\n"
     ]
    }
   ],
   "source": [
    "!ls MLB_chartstats/"
   ]
  },
  {
   "cell_type": "code",
   "execution_count": 594,
   "metadata": {},
   "outputs": [],
   "source": [
    "## Adding 2020 stat to see it in Tableau\n",
    "bas.loc[(2020, 'DJ LeMahieu'), 'BA'] = 0.359\n",
    "bas.loc[(2020, 'DJ LeMahieu'), 'league'] = 0.245\n",
    "bas.loc[(2020, 'DJ LeMahieu'), 'ratio'] = 1.465"
   ]
  },
  {
   "cell_type": "code",
   "execution_count": 602,
   "metadata": {},
   "outputs": [
    {
     "data": {
      "text/html": [
       "<div>\n",
       "<style scoped>\n",
       "    .dataframe tbody tr th:only-of-type {\n",
       "        vertical-align: middle;\n",
       "    }\n",
       "\n",
       "    .dataframe tbody tr th {\n",
       "        vertical-align: top;\n",
       "    }\n",
       "\n",
       "    .dataframe thead th {\n",
       "        text-align: right;\n",
       "    }\n",
       "</style>\n",
       "<table border=\"1\" class=\"dataframe\">\n",
       "  <thead>\n",
       "    <tr style=\"text-align: right;\">\n",
       "      <th></th>\n",
       "      <th></th>\n",
       "      <th>BA</th>\n",
       "      <th>league</th>\n",
       "      <th>ratio</th>\n",
       "    </tr>\n",
       "    <tr>\n",
       "      <th>season</th>\n",
       "      <th>name</th>\n",
       "      <th></th>\n",
       "      <th></th>\n",
       "      <th></th>\n",
       "    </tr>\n",
       "  </thead>\n",
       "  <tbody>\n",
       "    <tr>\n",
       "      <td>2016</td>\n",
       "      <td>Daniel Murphy</td>\n",
       "      <td>0.374</td>\n",
       "      <td>0.256</td>\n",
       "      <td>1.459</td>\n",
       "    </tr>\n",
       "    <tr>\n",
       "      <td>2017</td>\n",
       "      <td>Ryan Zimmerman</td>\n",
       "      <td>0.365</td>\n",
       "      <td>0.255</td>\n",
       "      <td>1.431</td>\n",
       "    </tr>\n",
       "    <tr>\n",
       "      <td>2018</td>\n",
       "      <td>Mookie Betts</td>\n",
       "      <td>0.359</td>\n",
       "      <td>0.249</td>\n",
       "      <td>1.441</td>\n",
       "    </tr>\n",
       "    <tr>\n",
       "      <td>2019</td>\n",
       "      <td>Cody Bellinger</td>\n",
       "      <td>0.376</td>\n",
       "      <td>0.253</td>\n",
       "      <td>1.490</td>\n",
       "    </tr>\n",
       "    <tr>\n",
       "      <td>2020</td>\n",
       "      <td>DJ LeMahieu</td>\n",
       "      <td>0.359</td>\n",
       "      <td>0.245</td>\n",
       "      <td>1.465</td>\n",
       "    </tr>\n",
       "  </tbody>\n",
       "</table>\n",
       "</div>"
      ],
      "text/plain": [
       "                          BA  league  ratio\n",
       "season name                                \n",
       "2016   Daniel Murphy   0.374   0.256  1.459\n",
       "2017   Ryan Zimmerman  0.365   0.255  1.431\n",
       "2018   Mookie Betts    0.359   0.249  1.441\n",
       "2019   Cody Bellinger  0.376   0.253  1.490\n",
       "2020   DJ LeMahieu     0.359   0.245  1.465"
      ]
     },
     "execution_count": 602,
     "metadata": {},
     "output_type": "execute_result"
    }
   ],
   "source": [
    "bas.tail()"
   ]
  },
  {
   "cell_type": "code",
   "execution_count": 603,
   "metadata": {},
   "outputs": [],
   "source": [
    "bas.to_csv('MLB_chartstats/ba_leaders.csv')"
   ]
  },
  {
   "cell_type": "code",
   "execution_count": 604,
   "metadata": {},
   "outputs": [
    {
     "data": {
      "text/html": [
       "<div>\n",
       "<style scoped>\n",
       "    .dataframe tbody tr th:only-of-type {\n",
       "        vertical-align: middle;\n",
       "    }\n",
       "\n",
       "    .dataframe tbody tr th {\n",
       "        vertical-align: top;\n",
       "    }\n",
       "\n",
       "    .dataframe thead th {\n",
       "        text-align: right;\n",
       "    }\n",
       "</style>\n",
       "<table border=\"1\" class=\"dataframe\">\n",
       "  <thead>\n",
       "    <tr style=\"text-align: right;\">\n",
       "      <th></th>\n",
       "      <th></th>\n",
       "      <th>OBP</th>\n",
       "      <th>league</th>\n",
       "      <th>ratio</th>\n",
       "    </tr>\n",
       "    <tr>\n",
       "      <th>season</th>\n",
       "      <th>name</th>\n",
       "      <th></th>\n",
       "      <th></th>\n",
       "      <th></th>\n",
       "    </tr>\n",
       "  </thead>\n",
       "  <tbody>\n",
       "    <tr>\n",
       "      <td>2016</td>\n",
       "      <td>Ben Zobrist</td>\n",
       "      <td>0.430</td>\n",
       "      <td>0.324</td>\n",
       "      <td>1.327</td>\n",
       "    </tr>\n",
       "    <tr>\n",
       "      <td>2017</td>\n",
       "      <td>Mike Trout</td>\n",
       "      <td>0.461</td>\n",
       "      <td>0.326</td>\n",
       "      <td>1.415</td>\n",
       "    </tr>\n",
       "    <tr>\n",
       "      <td>2018</td>\n",
       "      <td>Mike Trout</td>\n",
       "      <td>0.443</td>\n",
       "      <td>0.321</td>\n",
       "      <td>1.381</td>\n",
       "    </tr>\n",
       "    <tr>\n",
       "      <td>2019</td>\n",
       "      <td>Mike Trout</td>\n",
       "      <td>0.464</td>\n",
       "      <td>0.326</td>\n",
       "      <td>1.425</td>\n",
       "    </tr>\n",
       "    <tr>\n",
       "      <td>2020</td>\n",
       "      <td>Juan Soto</td>\n",
       "      <td>0.490</td>\n",
       "      <td>0.322</td>\n",
       "      <td>1.522</td>\n",
       "    </tr>\n",
       "  </tbody>\n",
       "</table>\n",
       "</div>"
      ],
      "text/plain": [
       "                      OBP  league  ratio\n",
       "season name                             \n",
       "2016   Ben Zobrist  0.430   0.324  1.327\n",
       "2017   Mike Trout   0.461   0.326  1.415\n",
       "2018   Mike Trout   0.443   0.321  1.381\n",
       "2019   Mike Trout   0.464   0.326  1.425\n",
       "2020   Juan Soto    0.490   0.322  1.522"
      ]
     },
     "execution_count": 604,
     "metadata": {},
     "output_type": "execute_result"
    }
   ],
   "source": [
    "## Adding 2020 stat to see it in Tableau\n",
    "obps.loc[(2020, 'Juan Soto'), 'OBP'] = 0.490\n",
    "obps.loc[(2020, 'Juan Soto'), 'league'] = 0.322\n",
    "obps.loc[(2020, 'Juan Soto'), 'ratio'] = 1.522\n",
    "obps.tail()"
   ]
  },
  {
   "cell_type": "code",
   "execution_count": 605,
   "metadata": {},
   "outputs": [],
   "source": [
    "obps.to_csv('MLB_chartstats/obp_leaders.csv')"
   ]
  },
  {
   "cell_type": "code",
   "execution_count": 606,
   "metadata": {},
   "outputs": [
    {
     "data": {
      "text/html": [
       "<div>\n",
       "<style scoped>\n",
       "    .dataframe tbody tr th:only-of-type {\n",
       "        vertical-align: middle;\n",
       "    }\n",
       "\n",
       "    .dataframe tbody tr th {\n",
       "        vertical-align: top;\n",
       "    }\n",
       "\n",
       "    .dataframe thead th {\n",
       "        text-align: right;\n",
       "    }\n",
       "</style>\n",
       "<table border=\"1\" class=\"dataframe\">\n",
       "  <thead>\n",
       "    <tr style=\"text-align: right;\">\n",
       "      <th></th>\n",
       "      <th></th>\n",
       "      <th>SLG</th>\n",
       "      <th>league</th>\n",
       "      <th>ratio</th>\n",
       "    </tr>\n",
       "    <tr>\n",
       "      <th>season</th>\n",
       "      <th>name</th>\n",
       "      <th></th>\n",
       "      <th></th>\n",
       "      <th></th>\n",
       "    </tr>\n",
       "  </thead>\n",
       "  <tbody>\n",
       "    <tr>\n",
       "      <td>2016</td>\n",
       "      <td>David Ortiz</td>\n",
       "      <td>0.725</td>\n",
       "      <td>0.418</td>\n",
       "      <td>1.733</td>\n",
       "    </tr>\n",
       "    <tr>\n",
       "      <td>2017</td>\n",
       "      <td>Mike Trout</td>\n",
       "      <td>0.742</td>\n",
       "      <td>0.426</td>\n",
       "      <td>1.741</td>\n",
       "    </tr>\n",
       "    <tr>\n",
       "      <td>2018</td>\n",
       "      <td>Mookie Betts</td>\n",
       "      <td>0.750</td>\n",
       "      <td>0.413</td>\n",
       "      <td>1.815</td>\n",
       "    </tr>\n",
       "    <tr>\n",
       "      <td>2019</td>\n",
       "      <td>Cody Bellinger</td>\n",
       "      <td>0.733</td>\n",
       "      <td>0.434</td>\n",
       "      <td>1.692</td>\n",
       "    </tr>\n",
       "    <tr>\n",
       "      <td>2020</td>\n",
       "      <td>Juan Soto</td>\n",
       "      <td>0.695</td>\n",
       "      <td>0.418</td>\n",
       "      <td>1.663</td>\n",
       "    </tr>\n",
       "  </tbody>\n",
       "</table>\n",
       "</div>"
      ],
      "text/plain": [
       "                         SLG  league  ratio\n",
       "season name                                \n",
       "2016   David Ortiz     0.725   0.418  1.733\n",
       "2017   Mike Trout      0.742   0.426  1.741\n",
       "2018   Mookie Betts    0.750   0.413  1.815\n",
       "2019   Cody Bellinger  0.733   0.434  1.692\n",
       "2020   Juan Soto       0.695   0.418  1.663"
      ]
     },
     "execution_count": 606,
     "metadata": {},
     "output_type": "execute_result"
    }
   ],
   "source": [
    "## Adding 2020 stat to see it in Tableau\n",
    "slgs.loc[(2020, 'Juan Soto'), 'SLG'] = 0.695\n",
    "slgs.loc[(2020, 'Juan Soto'), 'league'] = 0.418\n",
    "slgs.loc[(2020, 'Juan Soto'), 'ratio'] = 1.663\n",
    "slgs.tail()"
   ]
  },
  {
   "cell_type": "code",
   "execution_count": 607,
   "metadata": {},
   "outputs": [],
   "source": [
    "slgs.to_csv('MLB_chartstats/slg_leaders.csv')"
   ]
  },
  {
   "cell_type": "code",
   "execution_count": 608,
   "metadata": {},
   "outputs": [
    {
     "data": {
      "text/html": [
       "<div>\n",
       "<style scoped>\n",
       "    .dataframe tbody tr th:only-of-type {\n",
       "        vertical-align: middle;\n",
       "    }\n",
       "\n",
       "    .dataframe tbody tr th {\n",
       "        vertical-align: top;\n",
       "    }\n",
       "\n",
       "    .dataframe thead th {\n",
       "        text-align: right;\n",
       "    }\n",
       "</style>\n",
       "<table border=\"1\" class=\"dataframe\">\n",
       "  <thead>\n",
       "    <tr style=\"text-align: right;\">\n",
       "      <th></th>\n",
       "      <th></th>\n",
       "      <th>OPS</th>\n",
       "      <th>league</th>\n",
       "      <th>ratio</th>\n",
       "    </tr>\n",
       "    <tr>\n",
       "      <th>season</th>\n",
       "      <th>name</th>\n",
       "      <th></th>\n",
       "      <th></th>\n",
       "      <th></th>\n",
       "    </tr>\n",
       "  </thead>\n",
       "  <tbody>\n",
       "    <tr>\n",
       "      <td>2016</td>\n",
       "      <td>David Ortiz</td>\n",
       "      <td>1.149</td>\n",
       "      <td>0.742</td>\n",
       "      <td>1.548</td>\n",
       "    </tr>\n",
       "    <tr>\n",
       "      <td>2017</td>\n",
       "      <td>Mike Trout</td>\n",
       "      <td>1.203</td>\n",
       "      <td>0.752</td>\n",
       "      <td>1.600</td>\n",
       "    </tr>\n",
       "    <tr>\n",
       "      <td>2018</td>\n",
       "      <td>Mookie Betts</td>\n",
       "      <td>1.187</td>\n",
       "      <td>0.734</td>\n",
       "      <td>1.616</td>\n",
       "    </tr>\n",
       "    <tr>\n",
       "      <td>2019</td>\n",
       "      <td>Cody Bellinger</td>\n",
       "      <td>1.195</td>\n",
       "      <td>0.759</td>\n",
       "      <td>1.574</td>\n",
       "    </tr>\n",
       "    <tr>\n",
       "      <td>2020</td>\n",
       "      <td>Juan Soto</td>\n",
       "      <td>1.185</td>\n",
       "      <td>0.740</td>\n",
       "      <td>1.601</td>\n",
       "    </tr>\n",
       "  </tbody>\n",
       "</table>\n",
       "</div>"
      ],
      "text/plain": [
       "                         OPS  league  ratio\n",
       "season name                                \n",
       "2016   David Ortiz     1.149   0.742  1.548\n",
       "2017   Mike Trout      1.203   0.752  1.600\n",
       "2018   Mookie Betts    1.187   0.734  1.616\n",
       "2019   Cody Bellinger  1.195   0.759  1.574\n",
       "2020   Juan Soto       1.185   0.740  1.601"
      ]
     },
     "execution_count": 608,
     "metadata": {},
     "output_type": "execute_result"
    }
   ],
   "source": [
    "## Adding 2020 stat to see it in Tableau\n",
    "opses.loc[(2020, 'Juan Soto'), 'OPS'] = 1.185\n",
    "opses.loc[(2020, 'Juan Soto'), 'league'] = 0.740\n",
    "opses.loc[(2020, 'Juan Soto'), 'ratio'] = 1.601\n",
    "opses.tail()"
   ]
  },
  {
   "cell_type": "code",
   "execution_count": 609,
   "metadata": {},
   "outputs": [],
   "source": [
    "opses.to_csv('MLB_chartstats/ops_leaders.csv')"
   ]
  },
  {
   "cell_type": "markdown",
   "metadata": {},
   "source": [
    "Now the summary stats"
   ]
  },
  {
   "cell_type": "code",
   "execution_count": 649,
   "metadata": {},
   "outputs": [],
   "source": [
    "homer60 = grouped.HR.sum()\n",
    "triple60 = grouped[\"3B\"].sum()\n",
    "double60 = grouped['2B'].sum()\n",
    "hits60 = grouped.H.sum()\n",
    "walks60 = grouped.BB.sum()\n",
    "strikeouts60 = grouped.SO.sum()\n",
    "rbi60 = grouped.RBI.sum()\n",
    "runs60 = grouped.R.sum()\n",
    "pas60 = grouped.PA.sum()"
   ]
  },
  {
   "cell_type": "code",
   "execution_count": 658,
   "metadata": {},
   "outputs": [],
   "source": [
    "statgroups = [homer60, triple60,\n",
    "              double60, hits60,\n",
    "              walks60, strikeouts60,\n",
    "              rbi60, runs60, pas60]\n",
    "stats = ['HR','3B','2B','H','BB','SO','RBI','R','PA']"
   ]
  },
  {
   "cell_type": "code",
   "execution_count": 660,
   "metadata": {},
   "outputs": [],
   "source": [
    "for sg, stat in zip(statgroups, stats):\n",
    "    statDF = sg[sg.groupby('season').transform(lambda x: x == x.max())].to_frame(name=stat)\n",
    "    statDF.loc[2020, stat] = leaders2020.loc[stat, 'stat']  ## see 2020 frame below\n",
    "    statDF.to_csv(f'MLB_chartstats/top{stat}60.csv')"
   ]
  },
  {
   "cell_type": "code",
   "execution_count": 467,
   "metadata": {},
   "outputs": [
    {
     "data": {
      "text/html": [
       "<div>\n",
       "<style scoped>\n",
       "    .dataframe tbody tr th:only-of-type {\n",
       "        vertical-align: middle;\n",
       "    }\n",
       "\n",
       "    .dataframe tbody tr th {\n",
       "        vertical-align: top;\n",
       "    }\n",
       "\n",
       "    .dataframe thead th {\n",
       "        text-align: right;\n",
       "    }\n",
       "</style>\n",
       "<table border=\"1\" class=\"dataframe\">\n",
       "  <thead>\n",
       "    <tr style=\"text-align: right;\">\n",
       "      <th></th>\n",
       "      <th>name</th>\n",
       "      <th>stat</th>\n",
       "      <th>league</th>\n",
       "    </tr>\n",
       "  </thead>\n",
       "  <tbody>\n",
       "    <tr>\n",
       "      <td>BA</td>\n",
       "      <td>DJ LeMahieu</td>\n",
       "      <td>0.364</td>\n",
       "      <td>0.245</td>\n",
       "    </tr>\n",
       "    <tr>\n",
       "      <td>OBP</td>\n",
       "      <td>Juan Soto</td>\n",
       "      <td>0.490</td>\n",
       "      <td>0.322</td>\n",
       "    </tr>\n",
       "    <tr>\n",
       "      <td>SLG</td>\n",
       "      <td>Juan Soto</td>\n",
       "      <td>0.695</td>\n",
       "      <td>0.418</td>\n",
       "    </tr>\n",
       "    <tr>\n",
       "      <td>OPS</td>\n",
       "      <td>Juan Soto</td>\n",
       "      <td>1.185</td>\n",
       "      <td>0.740</td>\n",
       "    </tr>\n",
       "    <tr>\n",
       "      <td>PA</td>\n",
       "      <td>Marcell Ozuna</td>\n",
       "      <td>267.000</td>\n",
       "      <td>NaN</td>\n",
       "    </tr>\n",
       "    <tr>\n",
       "      <td>H</td>\n",
       "      <td>Trea Turner</td>\n",
       "      <td>78.000</td>\n",
       "      <td>NaN</td>\n",
       "    </tr>\n",
       "    <tr>\n",
       "      <td>2B</td>\n",
       "      <td>Freddie Freeman</td>\n",
       "      <td>23.000</td>\n",
       "      <td>NaN</td>\n",
       "    </tr>\n",
       "    <tr>\n",
       "      <td>3B</td>\n",
       "      <td>Kyle Tucker</td>\n",
       "      <td>6.000</td>\n",
       "      <td>NaN</td>\n",
       "    </tr>\n",
       "    <tr>\n",
       "      <td>HR</td>\n",
       "      <td>Luke Voit</td>\n",
       "      <td>22.000</td>\n",
       "      <td>NaN</td>\n",
       "    </tr>\n",
       "    <tr>\n",
       "      <td>BB</td>\n",
       "      <td>Bryce Harper</td>\n",
       "      <td>49.000</td>\n",
       "      <td>NaN</td>\n",
       "    </tr>\n",
       "    <tr>\n",
       "      <td>SO</td>\n",
       "      <td>Miguel Sanó</td>\n",
       "      <td>90.000</td>\n",
       "      <td>NaN</td>\n",
       "    </tr>\n",
       "    <tr>\n",
       "      <td>RBI</td>\n",
       "      <td>José Abreu</td>\n",
       "      <td>60.000</td>\n",
       "      <td>NaN</td>\n",
       "    </tr>\n",
       "    <tr>\n",
       "      <td>R</td>\n",
       "      <td>Freddie Freeman</td>\n",
       "      <td>51.000</td>\n",
       "      <td>NaN</td>\n",
       "    </tr>\n",
       "  </tbody>\n",
       "</table>\n",
       "</div>"
      ],
      "text/plain": [
       "                name     stat  league\n",
       "BA       DJ LeMahieu    0.364   0.245\n",
       "OBP        Juan Soto    0.490   0.322\n",
       "SLG        Juan Soto    0.695   0.418\n",
       "OPS        Juan Soto    1.185   0.740\n",
       "PA     Marcell Ozuna  267.000     NaN\n",
       "H        Trea Turner   78.000     NaN\n",
       "2B   Freddie Freeman   23.000     NaN\n",
       "3B       Kyle Tucker    6.000     NaN\n",
       "HR         Luke Voit   22.000     NaN\n",
       "BB      Bryce Harper   49.000     NaN\n",
       "SO       Miguel Sanó   90.000     NaN\n",
       "RBI       José Abreu   60.000     NaN\n",
       "R    Freddie Freeman   51.000     NaN"
      ]
     },
     "execution_count": 467,
     "metadata": {},
     "output_type": "execute_result"
    }
   ],
   "source": [
    "leaders2020 = pd.DataFrame(index=['BA','OBP','SLG','OPS','PA','H','2B','3B','HR','BB','SO','RBI','R'],\n",
    "                          data={'name':['DJ LeMahieu','Juan Soto','Juan Soto','Juan Soto','Marcell Ozuna',\n",
    "                                       'Trea Turner','Freddie Freeman','Kyle Tucker','Luke Voit',\n",
    "                                       'Bryce Harper','Miguel Sanó','José Abreu','Freddie Freeman'],\n",
    "                               'stat':[.364,.490,.695,1.185,267,78,23,6,22,49,90,60,51],\n",
    "                                'league':[.245,.322,.418,.740,None,None,None,None,None,None,None,None,None]})\n",
    "leaders2020"
   ]
  },
  {
   "cell_type": "code",
   "execution_count": 468,
   "metadata": {},
   "outputs": [],
   "source": [
    "leaders2020.to_csv('MLB_chartstats/leaders2020.csv')"
   ]
  },
  {
   "cell_type": "markdown",
   "metadata": {},
   "source": [
    "============ Now back to the regularly scheduled flow of the notebook =============="
   ]
  },
  {
   "cell_type": "markdown",
   "metadata": {},
   "source": [
    "Now how about On-Base Percentage:"
   ]
  },
  {
   "cell_type": "code",
   "execution_count": 418,
   "metadata": {},
   "outputs": [
    {
     "name": "stdout",
     "output_type": "stream",
     "text": [
      "Juan Soto's OBP was .490 in 2020.  \n",
      "Here are the top season starts historically:\n"
     ]
    },
    {
     "data": {
      "text/html": [
       "<div>\n",
       "<style scoped>\n",
       "    .dataframe tbody tr th:only-of-type {\n",
       "        vertical-align: middle;\n",
       "    }\n",
       "\n",
       "    .dataframe tbody tr th {\n",
       "        vertical-align: top;\n",
       "    }\n",
       "\n",
       "    .dataframe thead th {\n",
       "        text-align: right;\n",
       "    }\n",
       "</style>\n",
       "<table border=\"1\" class=\"dataframe\">\n",
       "  <thead>\n",
       "    <tr style=\"text-align: right;\">\n",
       "      <th></th>\n",
       "      <th></th>\n",
       "      <th>OBP</th>\n",
       "    </tr>\n",
       "    <tr>\n",
       "      <th>season</th>\n",
       "      <th>name</th>\n",
       "      <th></th>\n",
       "    </tr>\n",
       "  </thead>\n",
       "  <tbody>\n",
       "    <tr>\n",
       "      <td>2004</td>\n",
       "      <td>Barry Bonds</td>\n",
       "      <td>0.626</td>\n",
       "    </tr>\n",
       "    <tr>\n",
       "      <td>2002</td>\n",
       "      <td>Barry Bonds</td>\n",
       "      <td>0.563</td>\n",
       "    </tr>\n",
       "    <tr>\n",
       "      <td>1948</td>\n",
       "      <td>Ted Williams</td>\n",
       "      <td>0.545</td>\n",
       "    </tr>\n",
       "    <tr>\n",
       "      <td>1931</td>\n",
       "      <td>Babe Ruth</td>\n",
       "      <td>0.540</td>\n",
       "    </tr>\n",
       "    <tr>\n",
       "      <td>1923</td>\n",
       "      <td>Babe Ruth</td>\n",
       "      <td>0.529</td>\n",
       "    </tr>\n",
       "    <tr>\n",
       "      <td>1957</td>\n",
       "      <td>Mickey Mantle</td>\n",
       "      <td>0.528</td>\n",
       "    </tr>\n",
       "    <tr>\n",
       "      <td>1941</td>\n",
       "      <td>Ted Williams</td>\n",
       "      <td>0.527</td>\n",
       "    </tr>\n",
       "    <tr>\n",
       "      <td>1930</td>\n",
       "      <td>Babe Ruth</td>\n",
       "      <td>0.522</td>\n",
       "    </tr>\n",
       "    <tr>\n",
       "      <td>1925</td>\n",
       "      <td>Rogers Hornsby</td>\n",
       "      <td>0.520</td>\n",
       "    </tr>\n",
       "    <tr>\n",
       "      <td>1924</td>\n",
       "      <td>Babe Ruth</td>\n",
       "      <td>0.519</td>\n",
       "    </tr>\n",
       "    <tr>\n",
       "      <td>1926</td>\n",
       "      <td>Babe Ruth</td>\n",
       "      <td>0.518</td>\n",
       "    </tr>\n",
       "    <tr>\n",
       "      <td>1925</td>\n",
       "      <td>Ty Cobb</td>\n",
       "      <td>0.515</td>\n",
       "    </tr>\n",
       "    <tr>\n",
       "      <td rowspan=\"2\" valign=\"top\">1997</td>\n",
       "      <td>Frank Thomas</td>\n",
       "      <td>0.515</td>\n",
       "    </tr>\n",
       "    <tr>\n",
       "      <td>Larry Walker</td>\n",
       "      <td>0.514</td>\n",
       "    </tr>\n",
       "    <tr>\n",
       "      <td>1994</td>\n",
       "      <td>Paul O'Neill</td>\n",
       "      <td>0.513</td>\n",
       "    </tr>\n",
       "    <tr>\n",
       "      <td>1928</td>\n",
       "      <td>Rogers Hornsby</td>\n",
       "      <td>0.512</td>\n",
       "    </tr>\n",
       "    <tr>\n",
       "      <td>1921</td>\n",
       "      <td>Babe Ruth</td>\n",
       "      <td>0.511</td>\n",
       "    </tr>\n",
       "    <tr>\n",
       "      <td>1923</td>\n",
       "      <td>Harry Heilmann</td>\n",
       "      <td>0.511</td>\n",
       "    </tr>\n",
       "    <tr>\n",
       "      <td>1946</td>\n",
       "      <td>Ted Williams</td>\n",
       "      <td>0.509</td>\n",
       "    </tr>\n",
       "    <tr>\n",
       "      <td>1947</td>\n",
       "      <td>Ted Williams</td>\n",
       "      <td>0.506</td>\n",
       "    </tr>\n",
       "    <tr>\n",
       "      <td>1935</td>\n",
       "      <td>Arky Vaughan</td>\n",
       "      <td>0.506</td>\n",
       "    </tr>\n",
       "    <tr>\n",
       "      <td>1952</td>\n",
       "      <td>Jackie Robinson</td>\n",
       "      <td>0.504</td>\n",
       "    </tr>\n",
       "    <tr>\n",
       "      <td>1922</td>\n",
       "      <td>George Sisler</td>\n",
       "      <td>0.502</td>\n",
       "    </tr>\n",
       "    <tr>\n",
       "      <td>1994</td>\n",
       "      <td>Frank Thomas</td>\n",
       "      <td>0.500</td>\n",
       "    </tr>\n",
       "    <tr>\n",
       "      <td>1993</td>\n",
       "      <td>John Olerud</td>\n",
       "      <td>0.496</td>\n",
       "    </tr>\n",
       "    <tr>\n",
       "      <td>2011</td>\n",
       "      <td>Jose Bautista</td>\n",
       "      <td>0.496</td>\n",
       "    </tr>\n",
       "    <tr>\n",
       "      <td>2001</td>\n",
       "      <td>Jason Giambi</td>\n",
       "      <td>0.496</td>\n",
       "    </tr>\n",
       "    <tr>\n",
       "      <td>1930</td>\n",
       "      <td>Lou Gehrig</td>\n",
       "      <td>0.496</td>\n",
       "    </tr>\n",
       "    <tr>\n",
       "      <td>1920</td>\n",
       "      <td>Tris Speaker</td>\n",
       "      <td>0.496</td>\n",
       "    </tr>\n",
       "    <tr>\n",
       "      <td>1998</td>\n",
       "      <td>Mark McGwire</td>\n",
       "      <td>0.494</td>\n",
       "    </tr>\n",
       "  </tbody>\n",
       "</table>\n",
       "</div>"
      ],
      "text/plain": [
       "                          OBP\n",
       "season name                  \n",
       "2004   Barry Bonds      0.626\n",
       "2002   Barry Bonds      0.563\n",
       "1948   Ted Williams     0.545\n",
       "1931   Babe Ruth        0.540\n",
       "1923   Babe Ruth        0.529\n",
       "1957   Mickey Mantle    0.528\n",
       "1941   Ted Williams     0.527\n",
       "1930   Babe Ruth        0.522\n",
       "1925   Rogers Hornsby   0.520\n",
       "1924   Babe Ruth        0.519\n",
       "1926   Babe Ruth        0.518\n",
       "1925   Ty Cobb          0.515\n",
       "1997   Frank Thomas     0.515\n",
       "       Larry Walker     0.514\n",
       "1994   Paul O'Neill     0.513\n",
       "1928   Rogers Hornsby   0.512\n",
       "1921   Babe Ruth        0.511\n",
       "1923   Harry Heilmann   0.511\n",
       "1946   Ted Williams     0.509\n",
       "1947   Ted Williams     0.506\n",
       "1935   Arky Vaughan     0.506\n",
       "1952   Jackie Robinson  0.504\n",
       "1922   George Sisler    0.502\n",
       "1994   Frank Thomas     0.500\n",
       "1993   John Olerud      0.496\n",
       "2011   Jose Bautista    0.496\n",
       "2001   Jason Giambi     0.496\n",
       "1930   Lou Gehrig       0.496\n",
       "1920   Tris Speaker     0.496\n",
       "1998   Mark McGwire     0.494"
      ]
     },
     "execution_count": 418,
     "metadata": {},
     "output_type": "execute_result"
    }
   ],
   "source": [
    "print('Juan Soto\\'s OBP was .490 in 2020.  \\nHere are the top season starts historically:')\n",
    "round((minPA.H.sum() + minPA.BB.sum() + minPA.HBP.sum()) / \n",
    "                (minPA.AB.sum() + minPA.BB.sum() + \n",
    "                 minPA.HBP.sum() + minPA.SF.sum()), 3).sort_values(ascending=False).head(30).to_frame(name='OBP')"
   ]
  },
  {
   "cell_type": "code",
   "execution_count": 324,
   "metadata": {},
   "outputs": [
    {
     "data": {
      "image/png": "[encoded data removed]",
      "text/plain": [
       "<Figure size 432x288 with 1 Axes>"
      ]
     },
     "metadata": {
      "needs_background": "light"
     },
     "output_type": "display_data"
    },
    {
     "data": {
      "image/png": "[encoded data removed]",
      "text/plain": [
       "<Figure size 432x288 with 1 Axes>"
      ]
     },
     "metadata": {
      "needs_background": "light"
     },
     "output_type": "display_data"
    }
   ],
   "source": [
    "'''\n",
    "OBP = (H + BB + HBP) / (AB + BB + HBP + SF) ==> on-base %, as stated on bb-ref site.  \n",
    "total_bases = H + 2B + 2*3B + 3*HR  ==> since there's no \"1B\" column here\n",
    "SLG = total_bases/ AB\n",
    "OPS = OBP + SLG\n",
    "'''\n",
    "obp_leaders = round((minPA.H.sum() + minPA.BB.sum() + minPA.HBP.sum()) / \n",
    "                (minPA.AB.sum() + minPA.BB.sum() + \n",
    "                 minPA.HBP.sum() + minPA.SF.sum()), 3).groupby('season').max()\n",
    "# 2020 MLB OBP was .322, and obp60 (the league totals per year) was calculated earlier\n",
    "plot_2020_vs_hist_with_ratios(obp_leaders, obp60, 0.490, 0.322, 'Juan Soto', 'On-Base Percentage',\n",
    "                             'Leading OBP / League OBP (first 60 games)',\n",
    "                             'Best On-Base Pct. through first 60 games of each season',\n",
    "                             text = [{'x': 1980, 'y': 1.75, 's': 'Barry Bonds + Steroids',\n",
    "                                    'fontsize': 10}, {'x': 1954, 'y': 1.59, 's': 'Mickey Mantle',\n",
    "                                                     'fontsize': 10}])"
   ]
  },
  {
   "cell_type": "markdown",
   "metadata": {},
   "source": [
    "#### The .490 rate that Juan Soto reached base this year is the best start since 2011, and it joins José Bautista's 2011 number as one of the top 5 non-steroid numbers of the past century, compared to the rest of the league in its respective year.  "
   ]
  },
  {
   "cell_type": "code",
   "execution_count": 419,
   "metadata": {},
   "outputs": [
    {
     "name": "stdout",
     "output_type": "stream",
     "text": [
      "Juan Soto's Slugging Pct. was .695 in 2020.  \n",
      "Here are the top season starts historically:\n"
     ]
    },
    {
     "data": {
      "text/html": [
       "<div>\n",
       "<style scoped>\n",
       "    .dataframe tbody tr th:only-of-type {\n",
       "        vertical-align: middle;\n",
       "    }\n",
       "\n",
       "    .dataframe tbody tr th {\n",
       "        vertical-align: top;\n",
       "    }\n",
       "\n",
       "    .dataframe thead th {\n",
       "        text-align: right;\n",
       "    }\n",
       "</style>\n",
       "<table border=\"1\" class=\"dataframe\">\n",
       "  <thead>\n",
       "    <tr style=\"text-align: right;\">\n",
       "      <th></th>\n",
       "      <th></th>\n",
       "      <th>SLG</th>\n",
       "    </tr>\n",
       "    <tr>\n",
       "      <th>season</th>\n",
       "      <th>name</th>\n",
       "      <th></th>\n",
       "    </tr>\n",
       "  </thead>\n",
       "  <tbody>\n",
       "    <tr>\n",
       "      <td>2001</td>\n",
       "      <td>Barry Bonds</td>\n",
       "      <td>0.926</td>\n",
       "    </tr>\n",
       "    <tr>\n",
       "      <td>1921</td>\n",
       "      <td>Babe Ruth</td>\n",
       "      <td>0.868</td>\n",
       "    </tr>\n",
       "    <tr>\n",
       "      <td>1998</td>\n",
       "      <td>Mark McGwire</td>\n",
       "      <td>0.830</td>\n",
       "    </tr>\n",
       "    <tr>\n",
       "      <td>2004</td>\n",
       "      <td>Barry Bonds</td>\n",
       "      <td>0.828</td>\n",
       "    </tr>\n",
       "    <tr>\n",
       "      <td>2002</td>\n",
       "      <td>Barry Bonds</td>\n",
       "      <td>0.827</td>\n",
       "    </tr>\n",
       "    <tr>\n",
       "      <td>2000</td>\n",
       "      <td>Barry Bonds</td>\n",
       "      <td>0.815</td>\n",
       "    </tr>\n",
       "    <tr>\n",
       "      <td>1930</td>\n",
       "      <td>Babe Ruth</td>\n",
       "      <td>0.803</td>\n",
       "    </tr>\n",
       "    <tr>\n",
       "      <td>1928</td>\n",
       "      <td>Babe Ruth</td>\n",
       "      <td>0.799</td>\n",
       "    </tr>\n",
       "    <tr>\n",
       "      <td>1956</td>\n",
       "      <td>Mickey Mantle</td>\n",
       "      <td>0.795</td>\n",
       "    </tr>\n",
       "    <tr>\n",
       "      <td>1926</td>\n",
       "      <td>Babe Ruth</td>\n",
       "      <td>0.793</td>\n",
       "    </tr>\n",
       "    <tr>\n",
       "      <td>1925</td>\n",
       "      <td>Rogers Hornsby</td>\n",
       "      <td>0.790</td>\n",
       "    </tr>\n",
       "    <tr>\n",
       "      <td>1997</td>\n",
       "      <td>Larry Walker</td>\n",
       "      <td>0.787</td>\n",
       "    </tr>\n",
       "    <tr>\n",
       "      <td>1927</td>\n",
       "      <td>Lou Gehrig</td>\n",
       "      <td>0.786</td>\n",
       "    </tr>\n",
       "    <tr>\n",
       "      <td>1969</td>\n",
       "      <td>Willie McCovey</td>\n",
       "      <td>0.783</td>\n",
       "    </tr>\n",
       "    <tr>\n",
       "      <td>1932</td>\n",
       "      <td>Jimmie Foxx</td>\n",
       "      <td>0.781</td>\n",
       "    </tr>\n",
       "    <tr>\n",
       "      <td>2000</td>\n",
       "      <td>Mark McGwire</td>\n",
       "      <td>0.778</td>\n",
       "    </tr>\n",
       "    <tr>\n",
       "      <td>1920</td>\n",
       "      <td>Babe Ruth</td>\n",
       "      <td>0.772</td>\n",
       "    </tr>\n",
       "    <tr>\n",
       "      <td>1925</td>\n",
       "      <td>Ty Cobb</td>\n",
       "      <td>0.763</td>\n",
       "    </tr>\n",
       "    <tr>\n",
       "      <td>1927</td>\n",
       "      <td>Babe Ruth</td>\n",
       "      <td>0.752</td>\n",
       "    </tr>\n",
       "    <tr>\n",
       "      <td>1937</td>\n",
       "      <td>Joe Medwick</td>\n",
       "      <td>0.751</td>\n",
       "    </tr>\n",
       "    <tr>\n",
       "      <td>2006</td>\n",
       "      <td>Albert Pujols</td>\n",
       "      <td>0.751</td>\n",
       "    </tr>\n",
       "    <tr>\n",
       "      <td>1994</td>\n",
       "      <td>Frank Thomas</td>\n",
       "      <td>0.751</td>\n",
       "    </tr>\n",
       "    <tr>\n",
       "      <td>2018</td>\n",
       "      <td>Mookie Betts</td>\n",
       "      <td>0.750</td>\n",
       "    </tr>\n",
       "    <tr>\n",
       "      <td>1931</td>\n",
       "      <td>Babe Ruth</td>\n",
       "      <td>0.749</td>\n",
       "    </tr>\n",
       "    <tr>\n",
       "      <td>1957</td>\n",
       "      <td>Mickey Mantle</td>\n",
       "      <td>0.749</td>\n",
       "    </tr>\n",
       "    <tr>\n",
       "      <td>1930</td>\n",
       "      <td>Lou Gehrig</td>\n",
       "      <td>0.743</td>\n",
       "    </tr>\n",
       "    <tr>\n",
       "      <td>2017</td>\n",
       "      <td>Mike Trout</td>\n",
       "      <td>0.742</td>\n",
       "    </tr>\n",
       "    <tr>\n",
       "      <td>2000</td>\n",
       "      <td>Todd Helton</td>\n",
       "      <td>0.741</td>\n",
       "    </tr>\n",
       "    <tr>\n",
       "      <td>2008</td>\n",
       "      <td>Lance Berkman</td>\n",
       "      <td>0.741</td>\n",
       "    </tr>\n",
       "    <tr>\n",
       "      <td>1928</td>\n",
       "      <td>Rogers Hornsby</td>\n",
       "      <td>0.739</td>\n",
       "    </tr>\n",
       "  </tbody>\n",
       "</table>\n",
       "</div>"
      ],
      "text/plain": [
       "                         SLG\n",
       "season name                 \n",
       "2001   Barry Bonds     0.926\n",
       "1921   Babe Ruth       0.868\n",
       "1998   Mark McGwire    0.830\n",
       "2004   Barry Bonds     0.828\n",
       "2002   Barry Bonds     0.827\n",
       "2000   Barry Bonds     0.815\n",
       "1930   Babe Ruth       0.803\n",
       "1928   Babe Ruth       0.799\n",
       "1956   Mickey Mantle   0.795\n",
       "1926   Babe Ruth       0.793\n",
       "1925   Rogers Hornsby  0.790\n",
       "1997   Larry Walker    0.787\n",
       "1927   Lou Gehrig      0.786\n",
       "1969   Willie McCovey  0.783\n",
       "1932   Jimmie Foxx     0.781\n",
       "2000   Mark McGwire    0.778\n",
       "1920   Babe Ruth       0.772\n",
       "1925   Ty Cobb         0.763\n",
       "1927   Babe Ruth       0.752\n",
       "1937   Joe Medwick     0.751\n",
       "2006   Albert Pujols   0.751\n",
       "1994   Frank Thomas    0.751\n",
       "2018   Mookie Betts    0.750\n",
       "1931   Babe Ruth       0.749\n",
       "1957   Mickey Mantle   0.749\n",
       "1930   Lou Gehrig      0.743\n",
       "2017   Mike Trout      0.742\n",
       "2000   Todd Helton     0.741\n",
       "2008   Lance Berkman   0.741\n",
       "1928   Rogers Hornsby  0.739"
      ]
     },
     "execution_count": 419,
     "metadata": {},
     "output_type": "execute_result"
    }
   ],
   "source": [
    "print('Juan Soto\\'s Slugging Pct. was .695 in 2020.  \\nHere are the top season starts historically:')\n",
    "round((minPA.H.sum() + minPA['2B'].sum() + 2 * minPA['3B'].sum() +\n",
    "           3 * minPA.HR.sum()) / minPA.AB.sum(), 3).sort_values(ascending=False).head(30).to_frame(name='SLG')"
   ]
  },
  {
   "cell_type": "code",
   "execution_count": 325,
   "metadata": {},
   "outputs": [
    {
     "data": {
      "image/png": "[encoded data removed]",
      "text/plain": [
       "<Figure size 432x288 with 1 Axes>"
      ]
     },
     "metadata": {
      "needs_background": "light"
     },
     "output_type": "display_data"
    },
    {
     "data": {
      "image/png": "[encoded data removed]",
      "text/plain": [
       "<Figure size 432x288 with 1 Axes>"
      ]
     },
     "metadata": {
      "needs_background": "light"
     },
     "output_type": "display_data"
    }
   ],
   "source": [
    "'''\n",
    "OBP = (H + BB + HBP) / (AB + BB + HBP + SF) ==> on-base %, as stated on bb-ref site.  \n",
    "total_bases = H + 2B + 2*3B + 3*HR  ==> since there's no \"1B\" column here\n",
    "SLG = total_bases/ AB\n",
    "OPS = OBP + SLG\n",
    "'''\n",
    "slg_leaders = ((minPA.H.sum() + minPA['2B'].sum() + 2 * minPA['3B'].sum() +\n",
    "           3 * minPA.HR.sum()) / minPA.AB.sum()).groupby('season').max()\n",
    "# 2020 MLB SLG% was .418, and slg60 (league totals for slugging thru 60 games each season) was done earlier.\n",
    "plot_2020_vs_hist_with_ratios(slg_leaders, slg60, 0.695, 0.418, 'Juan Soto', 'Slugging Percentage',\n",
    "                             'Leading SLG / League SLG (first 60 games)',\n",
    "                             'Best Slugging Pct. through first 60 games of each season',\n",
    "                             text = [{'x': 1920, 'y': 2.08, 's': 'Babe Ruth',\n",
    "                                    'fontsize': 10}, {'x': 1960, 'y': 2.05, \n",
    "                                                      's': 'Willie McCovey',\n",
    "                                                      'fontsize': 10}])\n"
   ]
  },
  {
   "cell_type": "markdown",
   "metadata": {},
   "source": [
    "#### Juan Soto slugged .695 in 2020, which was a little low for the last decade, but very much in line with the last century."
   ]
  },
  {
   "cell_type": "markdown",
   "metadata": {},
   "source": [
    "For individual batting leaders in 2020, the numbers weren't too crazy.  Even Miguel Sanó's awful strikeout total was only the 3rd worst of the last decade. Probably the most standout stat is Juan Soto's .490 OBP, especially when you look at it compared to the rest of 2020 MLB, and even moreso when you consider he slugged .695 as well.  That (.490 + .695 = ) 1.185 OPS is probably pretty remarkable historically, so let's see:"
   ]
  },
  {
   "cell_type": "code",
   "execution_count": 327,
   "metadata": {},
   "outputs": [
    {
     "data": {
      "image/png": "[encoded data removed]",
      "text/plain": [
       "<Figure size 432x288 with 1 Axes>"
      ]
     },
     "metadata": {
      "needs_background": "light"
     },
     "output_type": "display_data"
    },
    {
     "data": {
      "image/png": "[encoded data removed]",
      "text/plain": [
       "<Figure size 432x288 with 1 Axes>"
      ]
     },
     "metadata": {
      "needs_background": "light"
     },
     "output_type": "display_data"
    }
   ],
   "source": [
    "ops_leaders = ((minPA.H.sum() + minPA.BB.sum() + minPA.HBP.sum()) / \n",
    "                (minPA.AB.sum() + minPA.BB.sum() + \n",
    "                 minPA.HBP.sum() + minPA.SF.sum()) + \n",
    "               ((minPA.H.sum() + minPA['2B'].sum() + \n",
    "                 2 * minPA['3B'].sum() + 3 * minPA.HR.sum()) / \n",
    "                minPA.AB.sum())).groupby('season').max()\n",
    "# MLB 2020 OPS overall was .740, and ops60 (historical ops for MLB each year thru 60 games) was done above\n",
    "plot_2020_vs_hist_with_ratios(ops_leaders, ops60, 1.185, 0.740, 'Juan Soto', 'OPS',\n",
    "                             'Leading OPS / League OPS (first 60 games)',\n",
    "                             'Best OPS through first 60 games of each season')    "
   ]
  },
  {
   "cell_type": "markdown",
   "metadata": {},
   "source": [
    "#### Well, not as remarkable as I suspected.  Very good OPS, but very typical when you compare it to past leaders as well as when you first put it in the context of the rest of the league for its year.  I'm not a baseball stats nut, but if I were, I don't think I'd pay much attention to OPS.  Juan Soto's OBP was more outstanding than his slugging % this year, and looking at the OPS obscures that fact, since the slugging component of the OPS seems to be much more important than the OBP component."
   ]
  },
  {
   "cell_type": "markdown",
   "metadata": {},
   "source": [
    "Possible next directions to go:  \n",
    "-- Team stats  \n",
    "-- Pitching stats  \n",
    "-- Analysis of variance for each stat (at-bat, game, season, career, team)"
   ]
  },
  {
   "cell_type": "code",
   "execution_count": null,
   "metadata": {},
   "outputs": [],
   "source": []
  }
 ],
 "metadata": {
  "kernelspec": {
   "display_name": "Python 3",
   "language": "python",
   "name": "python3"
  },
  "language_info": {
   "codemirror_mode": {
    "name": "ipython",
    "version": 3
   },
   "file_extension": ".py",
   "mimetype": "text/x-python",
   "name": "python",
   "nbconvert_exporter": "python",
   "pygments_lexer": "ipython3",
   "version": "3.7.4"
  }
 },
 "nbformat": 4,
 "nbformat_minor": 2
}
